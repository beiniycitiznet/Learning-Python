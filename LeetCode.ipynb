{
 "cells": [
  {
   "cell_type": "code",
   "execution_count": 2,
   "metadata": {},
   "outputs": [],
   "source": [
    "#Leetcode #1"
   ]
  },
  {
   "cell_type": "code",
   "execution_count": 25,
   "metadata": {},
   "outputs": [],
   "source": [
    "def Leetcode1 (nums, target):\n",
    "    num_dic={}\n",
    "    for i, value in enumerate(nums):\n",
    "        if value in num_dic:\n",
    "            return [num_dic[value], i]\n",
    "        num_dic[value]=i\n",
    "    print(num_dic)\n",
    "    for num in num_dic:\n",
    "        print(num)\n",
    "        sec=target-num\n",
    "        print(sec)\n",
    "        if sec in num_dic:\n",
    "            return [num_dic[num], num_dic[sec]]"
   ]
  },
  {
   "cell_type": "code",
   "execution_count": 26,
   "metadata": {},
   "outputs": [
    {
     "name": "stdout",
     "output_type": "stream",
     "text": [
      "{2: 0, 7: 1, 11: 2, 15: 3}\n",
      "2\n",
      "7\n",
      "[0, 1]\n"
     ]
    }
   ],
   "source": [
    "print(Leetcode1([2,7,11,15], 9))"
   ]
  },
  {
   "cell_type": "code",
   "execution_count": 33,
   "metadata": {},
   "outputs": [],
   "source": [
    "# Definition for singly-linked list.\n",
    "# class ListNode(object):\n",
    "#     def __init__(self, val=0, next=None):\n",
    "#         self.val = val\n",
    "#         self.next = next\n",
    "class LeetCode2(object):\n",
    "    def addTwoNumbers(self, l1, l2):\n",
    "        \"\"\"\n",
    "        :type l1: ListNode\n",
    "        :type l2: ListNode\n",
    "        :rtype: ListNode\n",
    "        \"\"\"\n",
    "        num1=num2=0\n",
    "        n1 = ''\n",
    "        while l1:\n",
    "            n1+=str(l1.val)\n",
    "            l1=l1.next\n",
    "        n2 = ''\n",
    "        while l2:\n",
    "            n2+=str(l2.val)\n",
    "            l2=l2.next\n",
    "        ans_rev=str(int(n1.reverse())+int(num2.reverse()))\n",
    "\n",
    "        ans_rev_list=[]\n",
    "        for num in ans_rev:\n",
    "            ans_rev_list.append(ListNode(num))\n",
    "        head=ans_rev_list[0]\n",
    "        \n",
    "        for i in range(len(ans_rev_list) - 1):\n",
    "            ans=ans_rev_list[i]\n",
    "            ans.next=ans_rev_list[i+1]\n",
    "        return head\n",
    "        \n",
    "        "
   ]
  },
  {
   "cell_type": "code",
   "execution_count": 157,
   "metadata": {},
   "outputs": [],
   "source": [
    "class LeetCode4(object):\n",
    "    def findMedianSortedArrays(self, nums1, nums2):\n",
    "        \"\"\"\n",
    "        :type nums1: List[int]\n",
    "        :type nums2: List[int]\n",
    "        :rtype: float\n",
    "        \"\"\" \n",
    "        merged_len=len(nums1)+len(nums2)\n",
    "        target = merged_len // 2\n",
    "        counter = 0\n",
    "        nums1_index = 0\n",
    "        nums2_index = 0\n",
    "        \n",
    "        prev = None\n",
    "        curr = None\n",
    "        \n",
    "        while counter <= target:\n",
    "            if nums1_index >= len(nums1):\n",
    "                break\n",
    "            if nums2_index >= len(nums2):\n",
    "                break\n",
    "            a = nums1[nums1_index]\n",
    "            b = nums2[nums2_index]\n",
    "            \n",
    "            prev = curr\n",
    "            if a < b:\n",
    "                curr = a\n",
    "                nums1_index += 1\n",
    "            else:\n",
    "                curr = b\n",
    "                nums2_index += 1\n",
    "            input(f'counter: {counter}, prev: {prev}, curr: {curr}')\n",
    "            counter += 1\n",
    "        \n",
    "        nums = nums1 if nums2_index >= len(nums2) else nums2\n",
    "        nums_index = nums1_index if nums2_index >= len(nums2) else nums2_index\n",
    "        \n",
    "        while counter <= target:\n",
    "            prev = curr\n",
    "            curr = nums[nums_index]\n",
    "            nums_index += 1\n",
    "            counter += 1\n",
    "        \n",
    "        if merged_len % 2 == 0:\n",
    "            return (prev + curr) / 2\n",
    "        return curr\n"
   ]
  },
  {
   "cell_type": "code",
   "execution_count": 158,
   "metadata": {},
   "outputs": [
    {
     "name": "stdin",
     "output_type": "stream",
     "text": [
      "counter: 0, prev: None, curr: 3 \n"
     ]
    },
    {
     "name": "stdout",
     "output_type": "stream",
     "text": [
      "4\n"
     ]
    }
   ],
   "source": [
    "bob = LeetCode4()\n",
    "print(bob.findMedianSortedArrays([3], [4,5]))"
   ]
  },
  {
   "cell_type": "code",
   "execution_count": null,
   "metadata": {},
   "outputs": [],
   "source": []
  },
  {
   "cell_type": "code",
   "execution_count": null,
   "metadata": {},
   "outputs": [],
   "source": []
  },
  {
   "cell_type": "code",
   "execution_count": null,
   "metadata": {},
   "outputs": [],
   "source": []
  }
 ],
 "metadata": {
  "kernelspec": {
   "display_name": "Python 3.7.7 64-bit ('dsfs': conda)",
   "language": "python",
   "name": "python37764bitdsfsconda1775957e7c934391a7cff3c9f4103f95"
  },
  "language_info": {
   "codemirror_mode": {
    "name": "ipython",
    "version": 3
   },
   "file_extension": ".py",
   "mimetype": "text/x-python",
   "name": "python",
   "nbconvert_exporter": "python",
   "pygments_lexer": "ipython3",
   "version": "3.7.7"
  }
 },
 "nbformat": 4,
 "nbformat_minor": 4
}
