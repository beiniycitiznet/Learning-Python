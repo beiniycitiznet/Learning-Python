{
 "cells": [
  {
   "cell_type": "code",
   "execution_count": 1,
   "metadata": {},
   "outputs": [],
   "source": [
    "#DFS"
   ]
  },
  {
   "cell_type": "code",
   "execution_count": 73,
   "metadata": {},
   "outputs": [],
   "source": [
    "import random\n",
    "\n",
    "class Graph():\n",
    "    def __init__(self, num):\n",
    "        self.nodes = []\n",
    "        for i in range(num):\n",
    "            self.nodes.append(Node(i))\n",
    "        for i, node in enumerate(self.nodes):\n",
    "            for j in range(1):\n",
    "                next_node = i\n",
    "                while next_node == i:\n",
    "                    next_node = random.randint(0, num - 1)\n",
    "                node.add(self.nodes[next_node])\n",
    "                self.nodes[next_node].add(node)\n",
    "    \n",
    "    def print(self):\n",
    "        for node in self.nodes:\n",
    "            print(f'{node.val} -> {sorted([x.val for x in node.neighbors])}')\n",
    "    \n",
    "            \n",
    "class Node():\n",
    "    def __init__(self, val):\n",
    "        self.val = val\n",
    "        self.neighbors = set()\n",
    "    def add(self, node):\n",
    "        self.neighbors.add(node)\n",
    "    def add_all(self, nodes):\n",
    "        for node in nodes:\n",
    "            self.add(node)\n",
    "    def node_print(self):\n",
    "        print(self.val)"
   ]
  },
  {
   "cell_type": "code",
   "execution_count": 74,
   "metadata": {},
   "outputs": [],
   "source": [
    "def dfs(start, target):\n",
    "    seen = set()\n",
    "    seen.add(start)\n",
    "    def helper(curr, target, seen, path):\n",
    "        if curr == target:\n",
    "            return (path, True)\n",
    "        for node in curr.neighbors:\n",
    "            if node not in seen:\n",
    "                seen.add(node)\n",
    "                result = helper(node, target, seen, path + [node])\n",
    "                if result[1]:\n",
    "                    return result\n",
    "        return ([], False)\n",
    "    return helper(start, target, seen, [start])"
   ]
  },
  {
   "cell_type": "code",
   "execution_count": 58,
   "metadata": {},
   "outputs": [
    {
     "name": "stdout",
     "output_type": "stream",
     "text": [
      "0 -> [7, 9, 16]\n",
      "1 -> [7, 12]\n",
      "2 -> [4, 5, 6, 14, 17, 18]\n",
      "3 -> [12]\n",
      "4 -> [2]\n",
      "5 -> [2, 8]\n",
      "6 -> [2, 18]\n",
      "7 -> [0, 1]\n",
      "8 -> [5]\n",
      "9 -> [0, 13]\n",
      "10 -> [16]\n",
      "11 -> [13]\n",
      "12 -> [1, 3, 19]\n",
      "13 -> [9, 11, 15]\n",
      "14 -> [2, 15]\n",
      "15 -> [13, 14]\n",
      "16 -> [0, 10]\n",
      "17 -> [2]\n",
      "18 -> [2, 6]\n",
      "19 -> [12]\n",
      "[0, 7, 1, 12, 3]\n"
     ]
    }
   ],
   "source": [
    "g = Graph(20)\n",
    "g.print()\n",
    "result = dfs(g.nodes[0], g.nodes[3])\n",
    "if result[1]:\n",
    "    print([node.val for node in result[0]])"
   ]
  },
  {
   "cell_type": "code",
   "execution_count": 75,
   "metadata": {},
   "outputs": [],
   "source": [
    "def dfs(start, target):\n",
    "    stack = [(start, 0)]\n",
    "    seen = set()\n",
    "    while stack != []:\n",
    "        curr, index = stack.pop()\n",
    "        seen.add(curr)\n",
    "        if curr == target:\n",
    "            for s in seen:\n",
    "                s.node_print()\n",
    "            return True\n",
    "        if index < len(curr.neighbors):\n",
    "            stack.append((curr, index + 1))\n",
    "            next_nodes = list(curr.neighbors)\n",
    "            if next_nodes[index] not in seen:\n",
    "                stack.append((next_nodes[index], 0))\n",
    "    for s in seen:\n",
    "        s.node_print()\n",
    "    return False\n",
    "        "
   ]
  },
  {
   "cell_type": "code",
   "execution_count": 76,
   "metadata": {},
   "outputs": [
    {
     "name": "stdout",
     "output_type": "stream",
     "text": [
      "0 -> [5, 9]\n",
      "1 -> [4, 16, 19]\n",
      "2 -> [14, 17]\n",
      "3 -> [12, 18]\n",
      "4 -> [1, 6]\n",
      "5 -> [0, 10]\n",
      "6 -> [4, 7]\n",
      "7 -> [6, 10]\n",
      "8 -> [12]\n",
      "9 -> [0]\n",
      "10 -> [5, 7, 15, 18]\n",
      "11 -> [15]\n",
      "12 -> [3, 8]\n",
      "13 -> [19]\n",
      "14 -> [2, 15]\n",
      "15 -> [10, 11, 14]\n",
      "16 -> [1]\n",
      "17 -> [2]\n",
      "18 -> [3, 10, 19]\n",
      "19 -> [1, 13, 18]\n",
      "0\n",
      "3\n",
      "1\n",
      "13\n",
      "18\n",
      "7\n",
      "6\n",
      "19\n",
      "10\n",
      "5\n",
      "4\n",
      "9\n",
      "True\n"
     ]
    }
   ],
   "source": [
    "g = Graph(20)\n",
    "g.print()\n",
    "print(dfs(g.nodes[0], g.nodes[3]))"
   ]
  },
  {
   "cell_type": "code",
   "execution_count": null,
   "metadata": {},
   "outputs": [],
   "source": []
  },
  {
   "cell_type": "code",
   "execution_count": null,
   "metadata": {},
   "outputs": [],
   "source": []
  }
 ],
 "metadata": {
  "kernelspec": {
   "display_name": "Python 3.7.7 64-bit ('dsfs': conda)",
   "language": "python",
   "name": "python37764bitdsfsconda1775957e7c934391a7cff3c9f4103f95"
  },
  "language_info": {
   "codemirror_mode": {
    "name": "ipython",
    "version": 3
   },
   "file_extension": ".py",
   "mimetype": "text/x-python",
   "name": "python",
   "nbconvert_exporter": "python",
   "pygments_lexer": "ipython3",
   "version": "3.7.7"
  }
 },
 "nbformat": 4,
 "nbformat_minor": 4
}
