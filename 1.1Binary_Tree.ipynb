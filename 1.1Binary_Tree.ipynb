{
 "cells": [
  {
   "cell_type": "code",
   "execution_count": null,
   "metadata": {},
   "outputs": [],
   "source": [
    "# Create a class to define Node, print Binary tree, and create a perfect Binary Tree"
   ]
  },
  {
   "cell_type": "code",
   "execution_count": 100,
   "metadata": {},
   "outputs": [],
   "source": [
    "class Node:\n",
    "    def __init__(self, value, left=None, right=None):\n",
    "        self.value=value\n",
    "        self.left=left\n",
    "        self.right=right\n",
    "        \n",
    "        \n",
    "class BinaryTree:\n",
    "    def __init__(self, root):\n",
    "        self.root=root\n",
    "    def __str__(self):\n",
    "        q = [self.root]\n",
    "        done = False\n",
    "        result = []\n",
    "        while not done:\n",
    "            done = True\n",
    "            result.append(' '.join([str(node.value) if node else 'X' for node in q]))\n",
    "            n = []\n",
    "            for node in q:\n",
    "                if not node:\n",
    "                    n.append(None)\n",
    "                    n.append(None)\n",
    "                    continue\n",
    "                if node.left:\n",
    "                    done = False\n",
    "                    n.append(node.left)\n",
    "                else:\n",
    "                    n.append(None)\n",
    "                if node.right:\n",
    "                    done = False\n",
    "                    n.append(node.right)\n",
    "                else:\n",
    "                    n.append(None)\n",
    "            q = n\n",
    "        return '\\n'.join(result)\n",
    "    \n",
    "def from_list_balanced (bt_list):\n",
    "    \n",
    "    node_list=[]\n",
    "    \n",
    "    for i in range(len(bt_list)):\n",
    "        node_list.append(Node(bt_list[i]))\n",
    "        \n",
    "    for i in range(len(node_list)//2):\n",
    "        node_list[i].left=node_list[i*2+1]\n",
    "        node_list[i].right=node_list[i*2+2]\n",
    "        \n",
    "    return BinaryTree(node_list[0])\n"
   ]
  },
  {
   "cell_type": "code",
   "execution_count": 62,
   "metadata": {},
   "outputs": [
    {
     "name": "stdout",
     "output_type": "stream",
     "text": [
      "1\n",
      "2 3\n",
      "4 None 6 7\n"
     ]
    }
   ],
   "source": [
    "print(from_list_balanced([1,2,3,4,None,6,7]))"
   ]
  },
  {
   "cell_type": "code",
   "execution_count": 58,
   "metadata": {},
   "outputs": [
    {
     "name": "stdout",
     "output_type": "stream",
     "text": [
      "3\n",
      "X 5\n",
      "X X 3 X\n"
     ]
    }
   ],
   "source": [
    "bt = BinaryTree(Node(3, None, Node(5, Node(3))))\n",
    "print(bt)"
   ]
  },
  {
   "cell_type": "code",
   "execution_count": null,
   "metadata": {},
   "outputs": [],
   "source": [
    "# Create a unbalanced Binary Tree (Draft)"
   ]
  },
  {
   "cell_type": "code",
   "execution_count": 169,
   "metadata": {},
   "outputs": [],
   "source": [
    "import math\n",
    "\n",
    "def ceiling_log2(x):\n",
    "    return math.ceil(math.log10(x)/math.log10(2))\n",
    "\n",
    "\n",
    "\n",
    "def from_list_unbalanced(bt_list):\n",
    "    addition=0\n",
    "    \n",
    "    power=ceiling_log2(len(bt_list)-1)\n",
    "#     for i in range(power+1):\n",
    "#         addition+=2**i\n",
    "\n",
    "    difference=2**(power+1)-1-len(bt_list)\n",
    "#     print(difference)\n",
    "\n",
    "    for i in range(difference):\n",
    "        bt_list.append(\"X\")\n",
    "    \n",
    "#     for i in bt_list:\n",
    "#         print(i)\n",
    "    \n",
    "    node_list=[]\n",
    "    \n",
    "    for i in range(len(bt_list)):\n",
    "        if isinstance(bt_list[i], int):\n",
    "            node_list.append(Node(bt_list[i]))\n",
    "        else:\n",
    "            node_list.append(None)\n",
    "            \n",
    "    for i in range(len(node_list)//2):\n",
    "        if node_list[i] != None:\n",
    "            node_list[i].left=node_list[i*2+1]\n",
    "            node_list[i].right=node_list[i*2+2]\n",
    "        \n",
    "    return BinaryTree(node_list[0])"
   ]
  },
  {
   "cell_type": "code",
   "execution_count": 170,
   "metadata": {},
   "outputs": [
    {
     "data": {
      "text/plain": [
       "3"
      ]
     },
     "execution_count": 170,
     "metadata": {},
     "output_type": "execute_result"
    }
   ],
   "source": [
    "math.ceil(log2(8-1))"
   ]
  },
  {
   "cell_type": "code",
   "execution_count": 123,
   "metadata": {},
   "outputs": [
    {
     "name": "stdout",
     "output_type": "stream",
     "text": [
      "1\n",
      "2 3\n",
      "4 X 6 7\n",
      "8 X X X X X X X\n"
     ]
    }
   ],
   "source": [
    "print(from_list_unbalanced([1,2,3,4,\"A\",6,7,8]))"
   ]
  },
  {
   "cell_type": "code",
   "execution_count": 69,
   "metadata": {},
   "outputs": [
    {
     "name": "stdout",
     "output_type": "stream",
     "text": [
      "True\n"
     ]
    }
   ],
   "source": [
    "print(isinstance(5,int))"
   ]
  },
  {
   "cell_type": "code",
   "execution_count": 70,
   "metadata": {},
   "outputs": [
    {
     "name": "stdout",
     "output_type": "stream",
     "text": [
      "1\n",
      "None\n",
      "2\n"
     ]
    }
   ],
   "source": [
    "test=[]\n",
    "test.append(1)\n",
    "test.append(None)\n",
    "test.append(2)\n",
    "\n",
    "for i in test:\n",
    "    print(i)"
   ]
  },
  {
   "cell_type": "code",
   "execution_count": null,
   "metadata": {},
   "outputs": [],
   "source": [
    "# Create a unbalanced Binary Tree"
   ]
  },
  {
   "cell_type": "code",
   "execution_count": 175,
   "metadata": {},
   "outputs": [],
   "source": [
    "import math\n",
    "\n",
    "def ceiling_log2(x):\n",
    "    return math.ceil(math.log10(x)/math.log10(2))\n",
    "\n",
    "\n",
    "def from_list_unbalanced(bt_list):\n",
    "    addition=0\n",
    "    \n",
    "    power=ceiling_log2(len(bt_list)-1)\n",
    "    \n",
    "    node_list=[]\n",
    "    \n",
    "    for i in range(len(bt_list)):\n",
    "        if isinstance(bt_list[i], int):\n",
    "            node_list.append(Node(bt_list[i]))\n",
    "        else:\n",
    "            node_list.append(None)\n",
    "        \n",
    "    for i in range(2**(power-1)):\n",
    "        if node_list[i]:\n",
    "            if i*2+1<len(node_list):\n",
    "                node_list[i].left=node_list[i*2+1]\n",
    "            if i*2+2<len(node_list):\n",
    "                node_list[i].right=node_list[i*2+2]\n",
    "        \n",
    "    return BinaryTree(node_list[0])"
   ]
  },
  {
   "cell_type": "code",
   "execution_count": 176,
   "metadata": {},
   "outputs": [
    {
     "name": "stdout",
     "output_type": "stream",
     "text": [
      "1\n",
      "2 3\n",
      "4 X 6 7\n",
      "8 X X X 12 X X X\n"
     ]
    }
   ],
   "source": [
    "print(from_list_unbalanced([1,2,3,4,\"A\",6,7,8,\"b\",\"x\",\"c\",12]))"
   ]
  },
  {
   "cell_type": "code",
   "execution_count": null,
   "metadata": {},
   "outputs": [],
   "source": []
  },
  {
   "cell_type": "code",
   "execution_count": null,
   "metadata": {},
   "outputs": [],
   "source": []
  }
 ],
 "metadata": {
  "kernelspec": {
   "display_name": "Python 3.7.7 64-bit ('dsfs': conda)",
   "language": "python",
   "name": "python37764bitdsfsconda1775957e7c934391a7cff3c9f4103f95"
  },
  "language_info": {
   "codemirror_mode": {
    "name": "ipython",
    "version": 3
   },
   "file_extension": ".py",
   "mimetype": "text/x-python",
   "name": "python",
   "nbconvert_exporter": "python",
   "pygments_lexer": "ipython3",
   "version": "3.7.7"
  }
 },
 "nbformat": 4,
 "nbformat_minor": 4
}
