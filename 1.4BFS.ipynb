{
 "cells": [
  {
   "cell_type": "code",
   "execution_count": 1,
   "metadata": {},
   "outputs": [],
   "source": [
    "# BFS"
   ]
  },
  {
   "cell_type": "code",
   "execution_count": 81,
   "metadata": {},
   "outputs": [],
   "source": [
    "import random\n",
    "\n",
    "class Graph():\n",
    "    def __init__(self, num):\n",
    "        self.nodes = []\n",
    "        for i in range(num):\n",
    "            self.nodes.append(Node(i))\n",
    "        for i, node in enumerate(self.nodes):\n",
    "            for j in range(1):\n",
    "                next_node = i\n",
    "                while next_node == i:\n",
    "                    next_node = random.randint(0, num - 1)\n",
    "                node.add(self.nodes[next_node])\n",
    "                self.nodes[next_node].add(node)\n",
    "    \n",
    "    def print(self):\n",
    "        for node in self.nodes:\n",
    "            print(f'{node.val} -> {sorted([x.val for x in node.neighbors])}')\n",
    "    \n",
    "            \n",
    "class Node():\n",
    "    def __init__(self, val):\n",
    "        self.val = val\n",
    "        self.neighbors = set()\n",
    "    def add(self, node):\n",
    "        self.neighbors.add(node)\n",
    "    def add_all(self, nodes):\n",
    "        for node in nodes:\n",
    "            self.add(node)\n",
    "            \n",
    "def bfs(start, target):\n",
    "    def helper(curr, target, seen):\n",
    "        # print(f'Processing {sorted([x.val for x in curr])}')\n",
    "        next_set = []\n",
    "        for node in curr:\n",
    "            if node == target:\n",
    "                return True\n",
    "            for neighbor in node.neighbors:\n",
    "                if neighbor not in seen:\n",
    "                    next_set.append(neighbor)\n",
    "                    seen.add(neighbor)\n",
    "        if next_set == []:\n",
    "            return False\n",
    "        return helper(next_set, target, seen)\n",
    "    return helper([start], target, set())\n",
    "\n"
   ]
  },
  {
   "cell_type": "code",
   "execution_count": 97,
   "metadata": {},
   "outputs": [],
   "source": [
    "def bfs(start, target):\n",
    "    queue = [start]\n",
    "    seen = set()\n",
    "    while queue != []:\n",
    "        curr = queue.pop(0)\n",
    "        seen.add(curr)\n",
    "        if curr == target:\n",
    "            return True\n",
    "        for neighbor in curr.neighbors:\n",
    "            if neighbor not in seen:\n",
    "                queue.append(neighbor)\n",
    "    return False"
   ]
  },
  {
   "cell_type": "code",
   "execution_count": 106,
   "metadata": {},
   "outputs": [
    {
     "name": "stdout",
     "output_type": "stream",
     "text": [
      "Done\n"
     ]
    }
   ],
   "source": [
    "g = Graph(20)\n",
    "# g.print()\n",
    "for i in range(1039):\n",
    "    if not bfs(g.nodes[0], g.nodes[3]):\n",
    "        g.print()\n",
    "        print(\"bob\")\n",
    "        break\n",
    "print(\"Done\")"
   ]
  },
  {
   "cell_type": "code",
   "execution_count": null,
   "metadata": {},
   "outputs": [],
   "source": []
  },
  {
   "cell_type": "code",
   "execution_count": null,
   "metadata": {},
   "outputs": [],
   "source": []
  },
  {
   "cell_type": "code",
   "execution_count": null,
   "metadata": {},
   "outputs": [],
   "source": []
  }
 ],
 "metadata": {
  "kernelspec": {
   "display_name": "Python 3.7.7 64-bit ('dsfs': conda)",
   "language": "python",
   "name": "python37764bitdsfsconda1775957e7c934391a7cff3c9f4103f95"
  },
  "language_info": {
   "codemirror_mode": {
    "name": "ipython",
    "version": 3
   },
   "file_extension": ".py",
   "mimetype": "text/x-python",
   "name": "python",
   "nbconvert_exporter": "python",
   "pygments_lexer": "ipython3",
   "version": "3.7.7"
  }
 },
 "nbformat": 4,
 "nbformat_minor": 4
}
