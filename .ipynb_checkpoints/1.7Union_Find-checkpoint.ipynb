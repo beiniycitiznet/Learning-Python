{
 "cells": [
  {
   "cell_type": "code",
   "execution_count": 1,
   "metadata": {},
   "outputs": [],
   "source": [
    "import random\n",
    "\n",
    "class Graph():\n",
    "    def __init__(self, num):\n",
    "        self.nodes = []\n",
    "        for i in range(num):\n",
    "            self.nodes.append(Node(i))\n",
    "        for i, node in enumerate(self.nodes):\n",
    "            for j in range(1):\n",
    "                next_node = i\n",
    "                while next_node == i:\n",
    "                    next_node = random.randint(0, num - 1)\n",
    "                node.add(self.nodes[next_node])\n",
    "                self.nodes[next_node].add(node)\n",
    "    def edges(self):\n",
    "        pass\n",
    "    def size(self):\n",
    "        return len(self.nodes)\n",
    "    \n",
    "    def print(self):\n",
    "        for node in self.nodes:\n",
    "            print(f'{node.val} -> {sorted([x.val for x in node.neighbors])}')\n",
    "    \n",
    "            \n",
    "class Node():\n",
    "    def __init__(self, val):\n",
    "        self.val = val\n",
    "        self.neighbors = set()\n",
    "    def add(self, node):\n",
    "        self.neighbors.add(node)\n",
    "    def add_all(self, nodes):\n",
    "        for node in nodes:\n",
    "            self.add(node)\n",
    "    def node_print(self):\n",
    "        print(self.val)"
   ]
  },
  {
   "cell_type": "code",
   "execution_count": null,
   "metadata": {},
   "outputs": [],
   "source": [
    "def union_find(graph):\n",
    "    edge_list=graph.edges()\n",
    "    map_size=graph.size()\n",
    "    cluster = []\n",
    "    for i in range(map_size):\n",
    "        cluster.append(i)\n",
    "        \n",
    "    for pair in edge_list:\n",
    "        union(pair)\n",
    "            \n",
    "            \n",
    "    \n",
    "    def find(node):\n",
    "        return cluster[node]\n",
    "        \n",
    "    def union(pair):\n",
    "        fix=find(pair[1])\n",
    "        correct=find(pair[0])\n",
    "        for i,value in enumerate(cluster):\n",
    "            if value==fix:\n",
    "                cluster[i]=correct\n"
   ]
  }
 ],
 "metadata": {
  "kernelspec": {
   "display_name": "Python 3.7.7 64-bit ('dsfs': conda)",
   "language": "python",
   "name": "python37764bitdsfsconda1775957e7c934391a7cff3c9f4103f95"
  },
  "language_info": {
   "codemirror_mode": {
    "name": "ipython",
    "version": 3
   },
   "file_extension": ".py",
   "mimetype": "text/x-python",
   "name": "python",
   "nbconvert_exporter": "python",
   "pygments_lexer": "ipython3",
   "version": "3.7.7"
  }
 },
 "nbformat": 4,
 "nbformat_minor": 4
}
