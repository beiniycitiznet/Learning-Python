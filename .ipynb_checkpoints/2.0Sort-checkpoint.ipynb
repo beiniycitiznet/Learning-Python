{
 "cells": [
  {
   "cell_type": "code",
   "execution_count": null,
   "metadata": {},
   "outputs": [],
   "source": [
    "# Selection Sort"
   ]
  },
  {
   "cell_type": "code",
   "execution_count": null,
   "metadata": {},
   "outputs": [],
   "source": [
    "def selection_sort(unsorted_list):\n",
    "    for i in range(len(unsorted_list)):\n",
    "            min_index=i\n",
    "            for j in range(i+1,len(unsorted_list)):\n",
    "                if unsorted_list[min_index]>unsorted_list[j]:\n",
    "                    min_index=j\n",
    "                unsorted_list[i],unsorted_list[min_index]=unsorted_list[min_index],unsorted_list[i]"
   ]
  },
  {
   "cell_type": "code",
   "execution_count": null,
   "metadata": {},
   "outputs": [],
   "source": [
    "bob = [1,5,3,8,2,2,0]\n",
    "selection_sort(bob)\n",
    "print(bob)"
   ]
  },
  {
   "cell_type": "code",
   "execution_count": 2,
   "metadata": {},
   "outputs": [],
   "source": [
    "# Bubble Sort"
   ]
  },
  {
   "cell_type": "code",
   "execution_count": 12,
   "metadata": {},
   "outputs": [],
   "source": [
    "def bubbleSort(arr):\n",
    "    for i in range(len(arr)):\n",
    "        for j in range (len(arr)-i-1):\n",
    "            if arr[j]>arr[j+1]:\n",
    "                arr[j], arr[j+1]=arr[j+1], arr[j]\n",
    "    return arr"
   ]
  },
  {
   "cell_type": "code",
   "execution_count": 13,
   "metadata": {},
   "outputs": [
    {
     "name": "stdout",
     "output_type": "stream",
     "text": [
      "[2, 4, 7, 10]\n"
     ]
    }
   ],
   "source": [
    "print(bubbleSort([10,4,7,2]))"
   ]
  },
  {
   "cell_type": "code",
   "execution_count": 14,
   "metadata": {},
   "outputs": [],
   "source": [
    "# Insertion Sort"
   ]
  },
  {
   "cell_type": "code",
   "execution_count": 15,
   "metadata": {},
   "outputs": [],
   "source": [
    "def insertionSort(arr):\n",
    "    for i in range(1,len(arr)):\n",
    "        j=i-1\n",
    "        while j>=0 and arr[j]>arr[j+1]:\n",
    "            arr[j], arr[j+1]=arr[j+1], arr[j]\n",
    "            j-=1\n",
    "    return arr"
   ]
  },
  {
   "cell_type": "code",
   "execution_count": 17,
   "metadata": {},
   "outputs": [
    {
     "name": "stdout",
     "output_type": "stream",
     "text": [
      "[0, 2, 7, 500, 999]\n"
     ]
    }
   ],
   "source": [
    "print(insertionSort([999, 500, 0, 7, 2]))"
   ]
  },
  {
   "cell_type": "code",
   "execution_count": 18,
   "metadata": {},
   "outputs": [],
   "source": [
    "# Merge Sort"
   ]
  },
  {
   "cell_type": "code",
   "execution_count": 24,
   "metadata": {},
   "outputs": [],
   "source": [
    "def Merge(left, right):\n",
    "    sorted_list=[]\n",
    "    i=j=n=0\n",
    "    \n",
    "    while i<len(left) and j<len(right):\n",
    "        if left[i]<=right[j]:\n",
    "            sorted_list.append(left[i])\n",
    "            i+=1\n",
    "        else:\n",
    "            sorted_list.append(right[j])\n",
    "            j+=1\n",
    "            \n",
    "    while j<len(right):\n",
    "        sorted_list.append(right[j])\n",
    "        j+=1\n",
    "        \n",
    "    while i<len(left):\n",
    "        sorted_list.append(left[i])\n",
    "        i+=1\n",
    "        \n",
    "    return sorted_list\n",
    "\n",
    "def MergeSort(arr):\n",
    "    if len(arr)<=1:\n",
    "        return arr\n",
    "    else:\n",
    "        m=len(arr)//2\n",
    "        larr=MergeSort(arr[:m])\n",
    "        rarr=MergeSort(arr[m:])\n",
    "        return Merge(larr, rarr)"
   ]
  },
  {
   "cell_type": "code",
   "execution_count": 25,
   "metadata": {},
   "outputs": [
    {
     "name": "stdout",
     "output_type": "stream",
     "text": [
      "[0, 4, 7, 10, 55, 200, 500, 567, 999]\n"
     ]
    }
   ],
   "source": [
    "print(MergeSort([999, 500, 0, 7, 4, 200, 10, 567, 55]))"
   ]
  },
  {
   "cell_type": "code",
   "execution_count": 26,
   "metadata": {},
   "outputs": [],
   "source": [
    "# Use recursion to find the nth Fibonacci number"
   ]
  },
  {
   "cell_type": "code",
   "execution_count": 29,
   "metadata": {},
   "outputs": [],
   "source": [
    "def fib(n):\n",
    "    if n<=2:\n",
    "        return 1\n",
    "    else:\n",
    "        return fib(n-2)+fib(n-1)"
   ]
  },
  {
   "cell_type": "code",
   "execution_count": 30,
   "metadata": {},
   "outputs": [
    {
     "name": "stdout",
     "output_type": "stream",
     "text": [
      "21\n"
     ]
    }
   ],
   "source": [
    "print(fib(8))"
   ]
  },
  {
   "cell_type": "code",
   "execution_count": 31,
   "metadata": {},
   "outputs": [],
   "source": [
    "# Use recusion to mutiply"
   ]
  },
  {
   "cell_type": "code",
   "execution_count": 36,
   "metadata": {},
   "outputs": [],
   "source": [
    "def multiply(a, b):\n",
    "    if a==0 or b==0:\n",
    "        return 0\n",
    "    else:\n",
    "        return multiply (a, b-1)+a"
   ]
  },
  {
   "cell_type": "code",
   "execution_count": 37,
   "metadata": {},
   "outputs": [
    {
     "name": "stdout",
     "output_type": "stream",
     "text": [
      "72\n"
     ]
    }
   ],
   "source": [
    "print(multiply(9, 8))"
   ]
  },
  {
   "cell_type": "code",
   "execution_count": 1,
   "metadata": {},
   "outputs": [],
   "source": [
    "# Quick Sort"
   ]
  },
  {
   "cell_type": "code",
   "execution_count": 28,
   "metadata": {},
   "outputs": [],
   "source": [
    "def QuickSort(arr):\n",
    "    return _QuickSort(arr, 0, len(arr))\n",
    "    \n",
    "# This is a helper function that the user will not see, so users don't need to input too much parameters\n",
    "def _QuickSort(arr, start, end):\n",
    "    if end-start>1:\n",
    "        pivot=partition(arr, start, end)\n",
    "        _QuickSort(arr, start, pivot)\n",
    "        _QuickSort(arr, pivot+1, end)\n",
    "    return arr\n",
    "\n",
    "        \n",
    "def partition(arr, start, end):\n",
    "    l=start+1\n",
    "    h=end-1\n",
    "    while h>=l:\n",
    "        if arr[l]<=arr[start]:\n",
    "            l+=1\n",
    "        else:\n",
    "            arr[l],arr[h]=arr[h],arr[l]\n",
    "            h-=1\n",
    "    arr[start], arr[h]=arr[h], arr[start]\n",
    "    return h"
   ]
  },
  {
   "cell_type": "code",
   "execution_count": 29,
   "metadata": {},
   "outputs": [
    {
     "name": "stdout",
     "output_type": "stream",
     "text": [
      "[1, 4, 8, 80, 367, 500, 800]\n"
     ]
    }
   ],
   "source": [
    "bob=[1, 8, 500, 4, 800, 367, 80]\n",
    "print(QuickSort(bob))"
   ]
  },
  {
   "cell_type": "code",
   "execution_count": 30,
   "metadata": {},
   "outputs": [],
   "source": [
    "# Heap Class"
   ]
  },
  {
   "cell_type": "code",
   "execution_count": 205,
   "metadata": {},
   "outputs": [],
   "source": [
    "class Heap:\n",
    "    def __init__(self, is_max):\n",
    "        self.binary_tree=[]\n",
    "        self.is_max=is_max\n",
    "        \n",
    "    def push(self, num):\n",
    "        if self.is_max:\n",
    "            self.binary_tree.append(num)\n",
    "        else:\n",
    "            self.binary_tree.append(-num)\n",
    "        self.push_heapify()\n",
    "\n",
    "    def push_heapify(self):\n",
    "        self._push_heapify(len(self.binary_tree)-1)\n",
    "        \n",
    "    def _push_heapify (self, pos):\n",
    "        current_pos=pos\n",
    "        parent_pos=(current_pos-1)//2\n",
    "        \n",
    "        if current_pos<=0 or self.binary_tree[current_pos]<=self.binary_tree[parent_pos]:\n",
    "            return \n",
    "        \n",
    "        else:\n",
    "            self.binary_tree[current_pos], self.binary_tree[parent_pos]=self.binary_tree[parent_pos], self.binary_tree[current_pos]\n",
    "            self._push_heapify(parent_pos)     \n",
    "        \n",
    "    def pop(self):\n",
    "        if len(self.binary_tree)>=1:\n",
    "            self.binary_tree[-1],self.binary_tree[0]=self.binary_tree[0],self.binary_tree[-1]\n",
    "            root=self.binary_tree.pop(len(self.binary_tree)-1)\n",
    "            self.pop_heapify()\n",
    "            if self.is_max:\n",
    "                return root\n",
    "            else:\n",
    "                return -root\n",
    "        else:\n",
    "            if self.is_max:\n",
    "                return self.binary_tree[0]\n",
    "            else:\n",
    "                return -self.binary_tree[0]\n",
    "    \n",
    "    def _pop_heapify(self, pos):\n",
    "        current_pos=pos\n",
    "        left_child_pos=2*current_pos+1\n",
    "        right_child_pos=2*current_pos+2\n",
    "        \n",
    "        if left_child_pos<len(self.binary_tree) and self.binary_tree[current_pos]<self.binary_tree[left_child_pos]:\n",
    "            self.binary_tree[current_pos], self.binary_tree[left_child_pos]=self.binary_tree[left_child_pos],self.binary_tree[current_pos]\n",
    "            self._pop_heapify(left_child_pos)\n",
    "        \n",
    "        if right_child_pos<len(self.binary_tree) and self.binary_tree[current_pos]<self.binary_tree[right_child_pos]:\n",
    "            self.binary_tree[current_pos], self.binary_tree[right_child_pos]=self.binary_tree[right_child_pos],self.binary_tree[current_pos]\n",
    "            self._pop_heapify(right_child_pos)     \n",
    "            \n",
    "    def pop_heapify(self): \n",
    "        self._pop_heapify(0)\n",
    "        \n",
    "            \n",
    "    def push_list(self, l):\n",
    "        for n in l:\n",
    "            self.push(n)\n",
    "    \n",
    "    def pop_list(self):\n",
    "        l = len(self.binary_tree)\n",
    "        for i in range(l):\n",
    "            print(self.pop())\n",
    "            \n",
    "    def print_heap(self):\n",
    "        print(self.binary_tree)\n",
    "\n",
    "    def heap_len(self):\n",
    "        return len(self.binary_tree)\n",
    "    "
   ]
  },
  {
   "cell_type": "code",
   "execution_count": 211,
   "metadata": {},
   "outputs": [
    {
     "name": "stdout",
     "output_type": "stream",
     "text": [
      "[-1, -2, -3, -4, -5, -8]\n",
      "[-2, -4, -3, -8, -5]\n",
      "2\n",
      "3\n",
      "4\n",
      "5\n",
      "8\n"
     ]
    }
   ],
   "source": [
    "heap_list=Heap(False)\n",
    "heap_list.push_list([1,2,3,4,5,8])\n",
    "heap_list.print_heap()\n",
    "heap_list.pop()\n",
    "heap_list.print_heap()\n",
    "heap_list.pop_list()"
   ]
  },
  {
   "cell_type": "code",
   "execution_count": 208,
   "metadata": {},
   "outputs": [
    {
     "name": "stdout",
     "output_type": "stream",
     "text": [
      "[7]\n"
     ]
    },
    {
     "data": {
      "text/plain": [
       "1"
      ]
     },
     "execution_count": 208,
     "metadata": {},
     "output_type": "execute_result"
    }
   ],
   "source": [
    "heap_list.push(7)\n",
    "heap_list.print_heap()\n",
    "heap_list.heap_len()"
   ]
  },
  {
   "cell_type": "code",
   "execution_count": 209,
   "metadata": {},
   "outputs": [],
   "source": [
    "# Heap Sort"
   ]
  },
  {
   "cell_type": "code",
   "execution_count": 216,
   "metadata": {},
   "outputs": [],
   "source": [
    "def HeapSort(l, is_max):\n",
    "    heap_list=Heap(is_max)\n",
    "    heap_list.push_list(l)\n",
    "    l=[]\n",
    "    while heap_list.heap_len()>=1:\n",
    "        l.append(heap_list.pop())\n",
    "    return l"
   ]
  },
  {
   "cell_type": "code",
   "execution_count": 218,
   "metadata": {},
   "outputs": [
    {
     "name": "stdout",
     "output_type": "stream",
     "text": [
      "[8, 5, 4, 3, 2, 1]\n"
     ]
    }
   ],
   "source": [
    "print(HeapSort([1,2,3,4,5,8], True))"
   ]
  },
  {
   "cell_type": "code",
   "execution_count": 219,
   "metadata": {},
   "outputs": [],
   "source": [
    "# Counting Sort"
   ]
  },
  {
   "cell_type": "code",
   "execution_count": 293,
   "metadata": {},
   "outputs": [],
   "source": [
    "def CountingSort(l):\n",
    "\n",
    "    count_list=[0]*10\n",
    "    result=[0]*len(l)\n",
    "    \n",
    "    for num in l:\n",
    "        count_list[num]+=1\n",
    "    for i in range(1, len(count_list)):\n",
    "        count_list[i]+=count_list[i-1]\n",
    "\n",
    "    temp=count_list[0]\n",
    "    for i in range(1,len(count_list)):\n",
    "        count_list[i],temp=temp,count_list[i]\n",
    "    count_list[0]=0\n",
    "    \n",
    "    for num in l:\n",
    "        result[count_list[num]]=num\n",
    "        count_list[num]+=1\n",
    "        \n",
    "                \n",
    "    return result\n",
    "    "
   ]
  },
  {
   "cell_type": "code",
   "execution_count": 294,
   "metadata": {},
   "outputs": [
    {
     "data": {
      "text/plain": [
       "[0, 4, 4, 5, 5, 7, 7, 8, 9, 9, 9]"
      ]
     },
     "execution_count": 294,
     "metadata": {},
     "output_type": "execute_result"
    }
   ],
   "source": [
    "l=[5,9,7,7,9,8,4,5,9,0,4]\n",
    "CountingSort(l)"
   ]
  },
  {
   "cell_type": "code",
   "execution_count": 295,
   "metadata": {},
   "outputs": [],
   "source": [
    "# Radix Sort"
   ]
  },
  {
   "cell_type": "code",
   "execution_count": 340,
   "metadata": {},
   "outputs": [],
   "source": [
    "def CountingSort_(l,pos):\n",
    "    count_list=[0]*10\n",
    "    result=[0]*len(l)\n",
    "    \n",
    "    for num in l:\n",
    "        p=(num//(10**(pos-1)))%10\n",
    "        count_list[p]+=1\n",
    "               \n",
    "    for i in range(1, len(count_list)):\n",
    "        count_list[i]+=count_list[i-1]\n",
    "\n",
    "    temp=count_list[0]\n",
    "    for i in range(1,len(count_list)):\n",
    "        count_list[i],temp=temp,count_list[i]\n",
    "    count_list[0]=0\n",
    "    \n",
    "    for num in l:\n",
    "        p=(num//(10**(pos-1)))%10\n",
    "        result[count_list[p]]=num\n",
    "        count_list[p]+=1       \n",
    "                \n",
    "    return result\n",
    "\n",
    "\n",
    "def RadixSort(l):\n",
    "    most_len=len(str(max(l)))\n",
    "    for i in range(1, most_len+1):\n",
    "        l=CountingSort_(l,i)\n",
    "    return l"
   ]
  },
  {
   "cell_type": "code",
   "execution_count": 341,
   "metadata": {},
   "outputs": [
    {
     "name": "stdout",
     "output_type": "stream",
     "text": [
      "[28, 55, 59, 83, 83, 112, 113, 116, 134, 140, 141, 168, 176, 177, 177, 183, 186, 203, 203, 204, 225, 229, 236, 237, 238, 248, 261, 263, 266, 268, 282, 287, 300, 303, 324, 338, 399, 411, 411, 414, 418, 433, 474, 498, 512, 518, 523, 528, 544, 560, 563, 564, 580, 582, 584, 607, 636, 655, 663, 673, 683, 696, 717, 732, 733, 734, 748, 752, 753, 753, 759, 760, 765, 766, 774, 779, 784, 790, 811, 817, 829, 842, 845, 852, 857, 887, 895, 895, 917, 921, 921, 922, 924, 925, 925, 936, 940, 951, 962, 975]\n"
     ]
    }
   ],
   "source": [
    "import random\n",
    "\n",
    "print(RadixSort([random.randint(0,999) for i in range(100)]))"
   ]
  },
  {
   "cell_type": "code",
   "execution_count": 334,
   "metadata": {},
   "outputs": [
    {
     "data": {
      "text/plain": [
       "12"
      ]
     },
     "execution_count": 334,
     "metadata": {},
     "output_type": "execute_result"
    }
   ],
   "source": [
    "10^6"
   ]
  },
  {
   "cell_type": "code",
   "execution_count": null,
   "metadata": {},
   "outputs": [],
   "source": []
  }
 ],
 "metadata": {
  "kernelspec": {
   "display_name": "Python 3.7.7 64-bit ('dsfs': conda)",
   "language": "python",
   "name": "python37764bitdsfsconda1775957e7c934391a7cff3c9f4103f95"
  },
  "language_info": {
   "codemirror_mode": {
    "name": "ipython",
    "version": 3
   },
   "file_extension": ".py",
   "mimetype": "text/x-python",
   "name": "python",
   "nbconvert_exporter": "python",
   "pygments_lexer": "ipython3",
   "version": "3.7.7"
  }
 },
 "nbformat": 4,
 "nbformat_minor": 4
}
