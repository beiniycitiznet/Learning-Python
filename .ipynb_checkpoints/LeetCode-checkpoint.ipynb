{
 "cells": [
  {
   "cell_type": "code",
   "execution_count": 2,
   "metadata": {},
   "outputs": [],
   "source": [
    "#Leetcode #1"
   ]
  },
  {
   "cell_type": "code",
   "execution_count": 25,
   "metadata": {},
   "outputs": [],
   "source": [
    "def Leetcode1 (nums, target):\n",
    "    num_dic={}\n",
    "    for i, value in enumerate(nums):\n",
    "        if value in num_dic:\n",
    "            return [num_dic[value], i]\n",
    "        num_dic[value]=i\n",
    "    print(num_dic)\n",
    "    for num in num_dic:\n",
    "        print(num)\n",
    "        sec=target-num\n",
    "        print(sec)\n",
    "        if sec in num_dic:\n",
    "            return [num_dic[num], num_dic[sec]]"
   ]
  },
  {
   "cell_type": "code",
   "execution_count": 26,
   "metadata": {},
   "outputs": [
    {
     "name": "stdout",
     "output_type": "stream",
     "text": [
      "{2: 0, 7: 1, 11: 2, 15: 3}\n",
      "2\n",
      "7\n",
      "[0, 1]\n"
     ]
    }
   ],
   "source": [
    "print(Leetcode1([2,7,11,15], 9))"
   ]
  },
  {
   "cell_type": "code",
   "execution_count": 33,
   "metadata": {},
   "outputs": [],
   "source": [
    "# Definition for singly-linked list.\n",
    "# class ListNode(object):\n",
    "#     def __init__(self, val=0, next=None):\n",
    "#         self.val = val\n",
    "#         self.next = next\n",
    "class LeetCode2(object):\n",
    "    def addTwoNumbers(self, l1, l2):\n",
    "        \"\"\"\n",
    "        :type l1: ListNode\n",
    "        :type l2: ListNode\n",
    "        :rtype: ListNode\n",
    "        \"\"\"\n",
    "        num1=num2=0\n",
    "        n1 = ''\n",
    "        while l1:\n",
    "            n1+=str(l1.val)\n",
    "            l1=l1.next\n",
    "        n2 = ''\n",
    "        while l2:\n",
    "            n2+=str(l2.val)\n",
    "            l2=l2.next\n",
    "        ans_rev=str(int(n1.reverse())+int(num2.reverse()))\n",
    "\n",
    "        ans_rev_list=[]\n",
    "        for num in ans_rev:\n",
    "            ans_rev_list.append(ListNode(num))\n",
    "        head=ans_rev_list[0]\n",
    "        \n",
    "        for i in range(len(ans_rev_list) - 1):\n",
    "            ans=ans_rev_list[i]\n",
    "            ans.next=ans_rev_list[i+1]\n",
    "        return head\n",
    "        \n",
    "        "
   ]
  },
  {
   "cell_type": "code",
   "execution_count": 157,
   "metadata": {},
   "outputs": [],
   "source": [
    "class LeetCode4(object):\n",
    "    def findMedianSortedArrays(self, nums1, nums2):\n",
    "        \"\"\"\n",
    "        :type nums1: List[int]\n",
    "        :type nums2: List[int]\n",
    "        :rtype: float\n",
    "        \"\"\" \n",
    "        merged_len=len(nums1)+len(nums2)\n",
    "        target = merged_len // 2\n",
    "        counter = 0\n",
    "        nums1_index = 0\n",
    "        nums2_index = 0\n",
    "        \n",
    "        prev = None\n",
    "        curr = None\n",
    "        \n",
    "        while counter <= target:\n",
    "            if nums1_index >= len(nums1):\n",
    "                break\n",
    "            if nums2_index >= len(nums2):\n",
    "                break\n",
    "            a = nums1[nums1_index]\n",
    "            b = nums2[nums2_index]\n",
    "            \n",
    "            prev = curr\n",
    "            if a < b:\n",
    "                curr = a\n",
    "                nums1_index += 1\n",
    "            else:\n",
    "                curr = b\n",
    "                nums2_index += 1\n",
    "            input(f'counter: {counter}, prev: {prev}, curr: {curr}')\n",
    "            counter += 1\n",
    "        \n",
    "        nums = nums1 if nums2_index >= len(nums2) else nums2\n",
    "        nums_index = nums1_index if nums2_index >= len(nums2) else nums2_index\n",
    "        \n",
    "        while counter <= target:\n",
    "            prev = curr\n",
    "            curr = nums[nums_index]\n",
    "            nums_index += 1\n",
    "            counter += 1\n",
    "        \n",
    "        if merged_len % 2 == 0:\n",
    "            return (prev + curr) / 2\n",
    "        return curr\n"
   ]
  },
  {
   "cell_type": "code",
   "execution_count": 158,
   "metadata": {},
   "outputs": [
    {
     "name": "stdin",
     "output_type": "stream",
     "text": [
      "counter: 0, prev: None, curr: 3 \n"
     ]
    },
    {
     "name": "stdout",
     "output_type": "stream",
     "text": [
      "4\n"
     ]
    }
   ],
   "source": [
    "bob = LeetCode4()\n",
    "print(bob.findMedianSortedArrays([3], [4,5]))"
   ]
  },
  {
   "cell_type": "code",
   "execution_count": 268,
   "metadata": {},
   "outputs": [],
   "source": [
    "class LeetCode6:\n",
    "    def convert(self, s: str, numRows: int) -> str:\n",
    "        result=\"\"\n",
    "        if numRows==1:\n",
    "            for letter in s:\n",
    "                result+=letter\n",
    "            return result\n",
    "        \n",
    "        dic={}\n",
    "        i=row=1\n",
    "        switch=True\n",
    "        \n",
    "        while numRows>0:\n",
    "            dic[i]=[]\n",
    "            i+=1\n",
    "            numRows-=1\n",
    "        # print(i)\n",
    "        for letter in s:\n",
    "            if row==i:\n",
    "                row-=2\n",
    "                switch=False\n",
    "            elif row==0:\n",
    "                switch=True\n",
    "                row+=2\n",
    "            if switch and row<i:\n",
    "                print(row, letter)\n",
    "                dic[row].append(letter)\n",
    "                row+=1\n",
    "            if not switch and row>0:\n",
    "                print(row, letter)\n",
    "                dic[row].append(letter)\n",
    "                row-=1\n",
    "        # print(dic)\n",
    "        for letter in dic.values():\n",
    "            for l in letter:\n",
    "                result+=l\n",
    "        \n",
    "        return result"
   ]
  },
  {
   "cell_type": "code",
   "execution_count": 269,
   "metadata": {},
   "outputs": [
    {
     "name": "stdout",
     "output_type": "stream",
     "text": [
      "ABC\n"
     ]
    }
   ],
   "source": [
    "bob = LeetCode6()\n",
    "print(bob.convert(\"ABC\", 1))"
   ]
  },
  {
   "cell_type": "code",
   "execution_count": 313,
   "metadata": {},
   "outputs": [
    {
     "data": {
      "text/plain": [
       "'abcdefghi'"
      ]
     },
     "execution_count": 313,
     "metadata": {},
     "output_type": "execute_result"
    }
   ],
   "source": [
    "l=[\"abc\", \"def\", \"ghi\"]\n",
    "\"\".join(l)"
   ]
  },
  {
   "cell_type": "code",
   "execution_count": 307,
   "metadata": {},
   "outputs": [],
   "source": [
    "class LeetCode7:\n",
    "    def reverse(self, x: int) -> int:\n",
    "        while x%10==0:\n",
    "            x/=10\n",
    "        print(x)\n",
    "        x=str(int(x))\n",
    "        print(x)\n",
    "        result=\"\"\n",
    "        switch=False\n",
    "        # print(x)\n",
    "        for letter in x:\n",
    "            if letter==\"-\":\n",
    "                switch=True\n",
    "            else:\n",
    "                result=letter+result\n",
    "        # print(result)\n",
    "        if switch:\n",
    "            result=int(result)*(-1)\n",
    "        \n",
    "        return result"
   ]
  },
  {
   "cell_type": "code",
   "execution_count": 308,
   "metadata": {},
   "outputs": [
    {
     "name": "stdout",
     "output_type": "stream",
     "text": [
      "12.0\n",
      "12\n",
      "21\n"
     ]
    }
   ],
   "source": [
    "bob = LeetCode7()\n",
    "print(bob.reverse(120))"
   ]
  },
  {
   "cell_type": "code",
   "execution_count": 327,
   "metadata": {},
   "outputs": [
    {
     "data": {
      "text/plain": [
       "{'I': 1, 'V': 5, 'X': 10, 'L': 50, 'C': 100, 'D': 500, 'M': 1000}"
      ]
     },
     "execution_count": 327,
     "metadata": {},
     "output_type": "execute_result"
    }
   ],
   "source": [
    "roman_dic={\"I\":1, \"V\":5, \"X\":10, \"L\": 50, \"C\": 100, \"D\": 500, \"M\": 1000}\n",
    "roman_dic"
   ]
  },
  {
   "cell_type": "code",
   "execution_count": 399,
   "metadata": {},
   "outputs": [],
   "source": [
    "class LeetCode14:\n",
    "    def longestCommonPrefix(self, strs):\n",
    "        result=strs[0]  \n",
    "        for i in range(1,len(strs)):\n",
    "            if not strs[i]:\n",
    "                return ''\n",
    "            for j in range(len(strs[i])):\n",
    "                # print(len(result), len(strs[i]))\n",
    "                if j<len(result) and strs[i][j]!=result[j]:\n",
    "                    # print(result, j)\n",
    "                    result=result[:j]   \n",
    "                result=result[:min(len(result), len(strs[i]))]                \n",
    "        \n",
    "        return result"
   ]
  },
  {
   "cell_type": "code",
   "execution_count": 400,
   "metadata": {},
   "outputs": [
    {
     "data": {
      "text/plain": [
       "''"
      ]
     },
     "execution_count": 400,
     "metadata": {},
     "output_type": "execute_result"
    }
   ],
   "source": [
    "Bob=LeetCode14()\n",
    "Bob.longestCommonPrefix(['abab', 'aba' ,''])\n",
    "\n",
    "# Bob.longestCommonPrefix(['ab', 'a'])\n",
    "# Bob.longestCommonPrefix(['flower', 'flow', 'flight'])\n",
    "# Bob.longestCommonPrefix(['dog', 'racecar', 'car'])"
   ]
  },
  {
   "cell_type": "code",
   "execution_count": 401,
   "metadata": {},
   "outputs": [
    {
     "data": {
      "text/plain": [
       "'flow'"
      ]
     },
     "execution_count": 401,
     "metadata": {},
     "output_type": "execute_result"
    }
   ],
   "source": [
    "strs=['flower', 'flow', 'flight']\n",
    "min(strs, key=len)"
   ]
  },
  {
   "cell_type": "code",
   "execution_count": 540,
   "metadata": {},
   "outputs": [],
   "source": [
    "class LeetCode15:\n",
    "    def threeSum(self, nums):\n",
    "        result=[]\n",
    "        nums.sort()\n",
    "        \n",
    "        for i, value in enumerate(nums):\n",
    "            if i>0 and value==nums[i-1]:\n",
    "                continue\n",
    "            \n",
    "            left=i+1\n",
    "            right=len(nums)-1\n",
    "            \n",
    "            while right>left:\n",
    "                temp_result=nums[left]+nums[right]+value\n",
    "                if temp_result>0:\n",
    "                    right-=1\n",
    "                elif temp_result<0:\n",
    "                    left+=1\n",
    "                else:\n",
    "                    result.append([value, nums[left], nums[right]])\n",
    "                    left+=1\n",
    "                    while nums[left]==nums[left-1] and right>left:\n",
    "                        left+=1\n",
    "                \n",
    "        return result"
   ]
  },
  {
   "cell_type": "code",
   "execution_count": 541,
   "metadata": {},
   "outputs": [
    {
     "data": {
      "text/plain": [
       "[[-1, -1, 2], [-1, 0, 1]]"
      ]
     },
     "execution_count": 541,
     "metadata": {},
     "output_type": "execute_result"
    }
   ],
   "source": [
    "bob=LeetCode15()\n",
    "bob.threeSum([-1,0,1,2,-1,-4])\n",
    "# bob.threeSum([3,-2,1,0])"
   ]
  },
  {
   "cell_type": "code",
   "execution_count": 559,
   "metadata": {},
   "outputs": [],
   "source": [
    "class LeetCode16:\n",
    "    def threeSumClosest(self, nums, target):\n",
    "        result, diff=0, 2**64-1\n",
    "        nums.sort()\n",
    "        for i, value in enumerate(nums):\n",
    "            left=i+1\n",
    "            right=len(nums)-1\n",
    "            while right>left:\n",
    "                temp=nums[left]+nums[right]+value\n",
    "                # print(f\"i={i} value={value} left={nums[left]} right={nums[right]}\")\n",
    "                d=abs(temp-target)\n",
    "                # print(f\"temp={temp} d={d}\")\n",
    "                if d<diff:\n",
    "                    diff=d\n",
    "                    result=temp\n",
    "                    # print(f\"diff={diff} result={result}\")\n",
    "                if temp>target:\n",
    "                    right-=1\n",
    "                elif temp<target:\n",
    "                    left+=1\n",
    "                else:\n",
    "                    return target\n",
    "        return result\n",
    "                \n",
    "        "
   ]
  },
  {
   "cell_type": "code",
   "execution_count": 560,
   "metadata": {},
   "outputs": [
    {
     "data": {
      "text/plain": [
       "2"
      ]
     },
     "execution_count": 560,
     "metadata": {},
     "output_type": "execute_result"
    }
   ],
   "source": [
    "bob=LeetCode16()\n",
    "# bob.threeSumClosest([-1,2,1,-4], 1)\n",
    "bob.threeSumClosest([1,1,1,0], -100)"
   ]
  },
  {
   "cell_type": "code",
   "execution_count": 702,
   "metadata": {},
   "outputs": [],
   "source": [
    "class LeetCode17:\n",
    "    def letterCombinations(self, digits):\n",
    "        if len(digits)<1:\n",
    "            return []\n",
    "        result=[]\n",
    "        phone={\"1\":[], \"2\":[\"a\",\"b\",\"c\"], \"3\":[\"d\", \"e\", \"f\"], \"4\":[\"g\", \"h\", \"i\"], \"5\":[\"j\", \"k\", \"l\"], \"6\":[\"m\", \"n\", \"o\"], \"7\":[\"p\", \"q\", \"r\", \"s\"], \"8\":[\"t\", \"u\", \"v\"], \"9\":[\"w\", \"x\", \"y\", \"z\"], \"0\":[ ]}\n",
    "        self.helper(0, \"\", phone, digits, result)\n",
    "        return result\n",
    "        \n",
    "    def helper(self, i, temp, phone, digits, result):\n",
    "        if i==len(digits):\n",
    "            result.append(temp)\n",
    "        else:\n",
    "            for letter in phone[digits[i]]:\n",
    "                self.helper(i+1, temp+letter, phone, digits, result)\n",
    "        return result"
   ]
  },
  {
   "cell_type": "code",
   "execution_count": 703,
   "metadata": {},
   "outputs": [
    {
     "data": {
      "text/plain": [
       "['ad', 'ae', 'af', 'bd', 'be', 'bf', 'cd', 'ce', 'cf']"
      ]
     },
     "execution_count": 703,
     "metadata": {},
     "output_type": "execute_result"
    }
   ],
   "source": [
    "bob=LeetCode17()\n",
    "bob.letterCombinations(\"23\")\n"
   ]
  },
  {
   "cell_type": "code",
   "execution_count": 825,
   "metadata": {},
   "outputs": [],
   "source": [
    "class LeetCode18():\n",
    "    def fourSum(self, nums, target):\n",
    "        nums.sort()\n",
    "        result=[]\n",
    "        temp=[]\n",
    "        \n",
    "        def helper(k, start, target):\n",
    "            if k>2:\n",
    "                for i in range(start, len(nums)-k+1):\n",
    "                    if i>start and nums[i]==nums[i-1]:\n",
    "                        continue\n",
    "                    temp.append(nums[i])\n",
    "                    print(f\"target: {target}\")\n",
    "                    helper(k-1, i+1, target-nums[i])\n",
    "                    temp.pop()\n",
    "                    print(f\"temp: {temp}, k: {k}, target: {target}\")\n",
    "                return temp\n",
    "                    \n",
    "            elif k==2:\n",
    "                left, right=start, len(nums)-1\n",
    "                while right>left:\n",
    "                    s=nums[left]+nums[right]\n",
    "                    print(f\"temp: {temp}, k: {k}, target: {target}, result: {result}, left: {left}, right: {right}, s: {s}\")\n",
    "                    if s<target:\n",
    "                        left+=1\n",
    "                    elif s>target:\n",
    "                        right-=1\n",
    "                    else:\n",
    "                        result.append(temp+[nums[right],nums[left]])\n",
    "                        left+=1\n",
    "                        while right>left and nums[left]==nums[left-1]:\n",
    "                            left+=1\n",
    "        helper(4,0,target)\n",
    "        return result\n",
    "            \n",
    "                            "
   ]
  },
  {
   "cell_type": "code",
   "execution_count": 826,
   "metadata": {},
   "outputs": [
    {
     "name": "stdout",
     "output_type": "stream",
     "text": [
      "target: 8\n",
      "target: 6\n",
      "temp: [2, 2], k: 2, target: 4, result: [], left: 2, right: 4, s: 4\n",
      "temp: [2], k: 3, target: 6\n",
      "temp: [], k: 4, target: 8\n"
     ]
    },
    {
     "data": {
      "text/plain": [
       "[[2, 2, 2, 2]]"
      ]
     },
     "execution_count": 826,
     "metadata": {},
     "output_type": "execute_result"
    }
   ],
   "source": [
    "bob=LeetCode18()\n",
    "# bob.fourSum([1,0,-1,0,-2,2], 0)\n",
    "bob.fourSum([2,2,2,2,2], 8)"
   ]
  },
  {
   "cell_type": "code",
   "execution_count": 777,
   "metadata": {},
   "outputs": [],
   "source": [
    "class LeetCode18():\n",
    "    def fourSum(self, nums, target):\n",
    "        nums.sort()\n",
    "        print(nums)\n",
    "        result=[]\n",
    "\n",
    "        \n",
    "        def helper(k, start, target, temp):\n",
    "            if k>len(nums):\n",
    "                return []\n",
    "            \n",
    "            for i in range(start, len(nums)-k+1):\n",
    "                if i>start and nums[i]==nums[i-1]:\n",
    "                    continue\n",
    "                if k>2:\n",
    "                    next_temp = temp + [nums[i]]\n",
    "                    print(f\"if K>2 bf: i: {i} k:{k} start:{start} target:{target} temp:{next_temp}\")\n",
    "                    helper(k-1, i+1, target-nums[i], next_temp)\n",
    "                    print(f\"if K>2: i: {i} k:{k} start:{start} target:{target} temp:{temp}\")\n",
    "                else:\n",
    "                    left, right=start, len(nums)-1\n",
    "                    print(f\"i: {i} left: {nums[left]} right: {nums[right]}\")\n",
    "                    while right>left:\n",
    "                        s=nums[left]+nums[right]\n",
    "                        if s<target:\n",
    "                            left+=1\n",
    "                        elif s>target:\n",
    "                            right-=1\n",
    "                        else:\n",
    "                            result.append(temp+[nums[left], nums[right]])\n",
    "                            print(f\"successful i: {i} temp: {temp} result:{result} left:{nums[left]} right:{nums[right]} target:{target}\")\n",
    "                            left+=1\n",
    "                            print(f\"left+=1 i: {i} temp: {temp} result:{result} left:{nums[left]} right:{nums[right]} target:{target}\")\n",
    "                            while right>left and nums[left]==nums[left-1]:\n",
    "                                left+=1\n",
    "                            #     print(f\"last while temp: i: {i} {temp} result:{result} left:{nums[left]} right:{nums[right]} target:{target}\")\n",
    "\n",
    "                        \n",
    "        helper(4,0,target,[])\n",
    "        return result\n"
   ]
  },
  {
   "cell_type": "code",
   "execution_count": 778,
   "metadata": {},
   "outputs": [
    {
     "name": "stdout",
     "output_type": "stream",
     "text": [
      "[-2, -1, 0, 0, 1, 2]\n",
      "if K>2 bf: i: 0 k:4 start:0 target:0 temp:[-2]\n",
      "if K>2 bf: i: 1 k:3 start:1 target:2 temp:[-2, -1]\n",
      "i: 2 left: 0 right: 2\n",
      "successful i: 2 temp: [-2, -1] result:[[-2, -1, 1, 2]] left:1 right:2 target:3\n",
      "left+=1 i: 2 temp: [-2, -1] result:[[-2, -1, 1, 2]] left:2 right:2 target:3\n",
      "i: 4 left: 0 right: 2\n",
      "successful i: 4 temp: [-2, -1] result:[[-2, -1, 1, 2], [-2, -1, 1, 2]] left:1 right:2 target:3\n",
      "left+=1 i: 4 temp: [-2, -1] result:[[-2, -1, 1, 2], [-2, -1, 1, 2]] left:2 right:2 target:3\n",
      "if K>2: i: 1 k:3 start:1 target:2 temp:[-2]\n",
      "if K>2 bf: i: 2 k:3 start:1 target:2 temp:[-2, 0]\n",
      "i: 3 left: 0 right: 2\n",
      "successful i: 3 temp: [-2, 0] result:[[-2, -1, 1, 2], [-2, -1, 1, 2], [-2, 0, 0, 2]] left:0 right:2 target:2\n",
      "left+=1 i: 3 temp: [-2, 0] result:[[-2, -1, 1, 2], [-2, -1, 1, 2], [-2, 0, 0, 2]] left:1 right:2 target:2\n",
      "i: 4 left: 0 right: 2\n",
      "successful i: 4 temp: [-2, 0] result:[[-2, -1, 1, 2], [-2, -1, 1, 2], [-2, 0, 0, 2], [-2, 0, 0, 2]] left:0 right:2 target:2\n",
      "left+=1 i: 4 temp: [-2, 0] result:[[-2, -1, 1, 2], [-2, -1, 1, 2], [-2, 0, 0, 2], [-2, 0, 0, 2]] left:1 right:2 target:2\n",
      "if K>2: i: 2 k:3 start:1 target:2 temp:[-2]\n",
      "if K>2: i: 0 k:4 start:0 target:0 temp:[]\n",
      "if K>2 bf: i: 1 k:4 start:0 target:0 temp:[-1]\n",
      "if K>2 bf: i: 2 k:3 start:2 target:1 temp:[-1, 0]\n",
      "i: 3 left: 0 right: 2\n",
      "successful i: 3 temp: [-1, 0] result:[[-2, -1, 1, 2], [-2, -1, 1, 2], [-2, 0, 0, 2], [-2, 0, 0, 2], [-1, 0, 0, 1]] left:0 right:1 target:1\n",
      "left+=1 i: 3 temp: [-1, 0] result:[[-2, -1, 1, 2], [-2, -1, 1, 2], [-2, 0, 0, 2], [-2, 0, 0, 2], [-1, 0, 0, 1]] left:1 right:1 target:1\n",
      "i: 4 left: 0 right: 2\n",
      "successful i: 4 temp: [-1, 0] result:[[-2, -1, 1, 2], [-2, -1, 1, 2], [-2, 0, 0, 2], [-2, 0, 0, 2], [-1, 0, 0, 1], [-1, 0, 0, 1]] left:0 right:1 target:1\n",
      "left+=1 i: 4 temp: [-1, 0] result:[[-2, -1, 1, 2], [-2, -1, 1, 2], [-2, 0, 0, 2], [-2, 0, 0, 2], [-1, 0, 0, 1], [-1, 0, 0, 1]] left:1 right:1 target:1\n",
      "if K>2: i: 2 k:3 start:2 target:1 temp:[-1]\n",
      "if K>2: i: 1 k:4 start:0 target:0 temp:[]\n",
      "if K>2 bf: i: 2 k:4 start:0 target:0 temp:[0]\n",
      "if K>2 bf: i: 3 k:3 start:3 target:0 temp:[0, 0]\n",
      "i: 4 left: 1 right: 2\n",
      "if K>2: i: 3 k:3 start:3 target:0 temp:[0]\n",
      "if K>2: i: 2 k:4 start:0 target:0 temp:[]\n"
     ]
    },
    {
     "data": {
      "text/plain": [
       "[[-2, -1, 1, 2],\n",
       " [-2, -1, 1, 2],\n",
       " [-2, 0, 0, 2],\n",
       " [-2, 0, 0, 2],\n",
       " [-1, 0, 0, 1],\n",
       " [-1, 0, 0, 1]]"
      ]
     },
     "execution_count": 778,
     "metadata": {},
     "output_type": "execute_result"
    }
   ],
   "source": [
    "bob=LeetCode18()\n",
    "bob.fourSum([1,0,-1,0,-2,2], 0)"
   ]
  },
  {
   "cell_type": "code",
   "execution_count": 846,
   "metadata": {},
   "outputs": [],
   "source": [
    "class LeetCode20:\n",
    "    def isValid(self, s: str) -> bool:\n",
    "        par_dic={\"(\":1, \")\":-1, \"{\":2, \"}\":-2, \"[\":3, \"]\":-3}\n",
    "        left=[]\n",
    "        total=0\n",
    "        for par in s:\n",
    "            temp=par_dic[par]\n",
    "            total+=temp\n",
    "            # print(f\"temp:{temp}\")\n",
    "            if temp<0:\n",
    "                if len(left)>0 and temp+left[-1]==0:\n",
    "                    left.pop(-1)\n",
    "                    # print(f\"left pop: {left}\")\n",
    "                else:\n",
    "                    return False\n",
    "                \n",
    "            else:\n",
    "                left.append(temp)\n",
    "                # print(f\"left append: {left}\")\n",
    "        return total==0"
   ]
  },
  {
   "cell_type": "code",
   "execution_count": 849,
   "metadata": {},
   "outputs": [
    {
     "data": {
      "text/plain": [
       "True"
      ]
     },
     "execution_count": 849,
     "metadata": {},
     "output_type": "execute_result"
    }
   ],
   "source": [
    "bob=LeetCode20()\n",
    "bob.isValid(\"()\")"
   ]
  },
  {
   "cell_type": "code",
   "execution_count": 855,
   "metadata": {},
   "outputs": [],
   "source": [
    "# Definition for singly-linked list.\n",
    "# class ListNode(object):\n",
    "#     def __init__(self, val=0, next=None):\n",
    "#         self.val = val\n",
    "#         self.next = next\n",
    "class LeetCode21(object):\n",
    "    def mergeTwoLists(self, l1, l2):\n",
    "        \"\"\"\n",
    "        :type l1: ListNode\n",
    "        :type l2: ListNode\n",
    "        :rtype: ListNode\n",
    "        \"\"\"\n",
    "        lr=ListNode()\n",
    "\n",
    "        if not l1:\n",
    "            return l2\n",
    "        elif not l2:\n",
    "            return l1\n",
    "        head=lr\n",
    "            \n",
    "            \n",
    "        while l1 and l2:\n",
    "            if l1.val>=l2.val:\n",
    "                lr.next=l2\n",
    "                lr=lr.next\n",
    "                l2=l2.next\n",
    "            else:\n",
    "                lr.next=l1\n",
    "                lr=lr.next\n",
    "                l1=l1.next\n",
    "            # print(lr.val)\n",
    "        while l1:\n",
    "            lr.next=l1\n",
    "            lr=lr.next\n",
    "            l1=l1.next\n",
    "            # print(lr.val)\n",
    "\n",
    "        while l2:\n",
    "            lr.next=l2\n",
    "            lr=lr.next\n",
    "            l2=l2.next\n",
    "            # print(lr.val)\n",
    "        return head.next"
   ]
  },
  {
   "cell_type": "code",
   "execution_count": 933,
   "metadata": {},
   "outputs": [],
   "source": [
    "class LeetCode22():\n",
    "    def generateParenthesis(self, n):\n",
    "        pair='()'\n",
    "        result=[]\n",
    "        result.append(pair)\n",
    "        \n",
    "        while n>1:\n",
    "            count=len(result)\n",
    "            while count>0:\n",
    "            # for combo in result:\n",
    "                pop=result.pop(0)\n",
    "                for i, val in enumerate(pop):\n",
    "                    if val==\"(\":\n",
    "                        temp_result=pop[:i]+\"(\"+val+\")\"+pop[i+1:]\n",
    "                        result.append(temp_result)\n",
    "                        # print(f\"temp_result: {temp_result}\")\n",
    "                        # print(f\"result: {result}\")\n",
    "                count-=1\n",
    "            temp_result=pop+\"()\"\n",
    "            result.append(temp_result)\n",
    "                \n",
    "            n-=1\n",
    "            \n",
    "        return result"
   ]
  },
  {
   "cell_type": "code",
   "execution_count": 935,
   "metadata": {},
   "outputs": [],
   "source": [
    " class LeetCode22():\n",
    "    def generateParenthesis(self, n):       \n",
    "        result = []\n",
    "        def helper(temp, left, right):\n",
    "            if right == 0:\n",
    "                result.append(temp)\n",
    "            else:\n",
    "                # Add new parenthesis\n",
    "                if left:\n",
    "                    helper(temp + '(', left - 1, right)\n",
    "                if right > left:\n",
    "                    helper(temp + ')', left, right - 1)\n",
    "        helper('', n, n)\n",
    "        return result"
   ]
  },
  {
   "cell_type": "code",
   "execution_count": 936,
   "metadata": {
    "collapsed": true,
    "jupyter": {
     "outputs_hidden": true
    },
    "tags": []
   },
   "outputs": [
    {
     "data": {
      "text/plain": [
       "['((((()))))',\n",
       " '(((()())))',\n",
       " '(((())()))',\n",
       " '(((()))())',\n",
       " '(((())))()',\n",
       " '((()(())))',\n",
       " '((()()()))',\n",
       " '((()())())',\n",
       " '((()()))()',\n",
       " '((())(()))',\n",
       " '((())()())',\n",
       " '((())())()',\n",
       " '((()))(())',\n",
       " '((()))()()',\n",
       " '(()((())))',\n",
       " '(()(()()))',\n",
       " '(()(())())',\n",
       " '(()(()))()',\n",
       " '(()()(()))',\n",
       " '(()()()())',\n",
       " '(()()())()',\n",
       " '(()())(())',\n",
       " '(()())()()',\n",
       " '(())((()))',\n",
       " '(())(()())',\n",
       " '(())(())()',\n",
       " '(())()(())',\n",
       " '(())()()()',\n",
       " '()(((())))',\n",
       " '()((()()))',\n",
       " '()((())())',\n",
       " '()((()))()',\n",
       " '()(()(()))',\n",
       " '()(()()())',\n",
       " '()(()())()',\n",
       " '()(())(())',\n",
       " '()(())()()',\n",
       " '()()((()))',\n",
       " '()()(()())',\n",
       " '()()(())()',\n",
       " '()()()(())',\n",
       " '()()()()()']"
      ]
     },
     "execution_count": 936,
     "metadata": {},
     "output_type": "execute_result"
    }
   ],
   "source": [
    "bob=LeetCode22()\n",
    "bob.generateParenthesis(5)"
   ]
  },
  {
   "cell_type": "code",
   "execution_count": 938,
   "metadata": {},
   "outputs": [],
   "source": [
    "class Solution:\n",
    "    def swapPairs(self, head):\n",
    "        if head==None:\n",
    "            return None\n",
    "        elif not head.next:\n",
    "            return head\n",
    "        \n",
    "        curr1=head.next\n",
    "        result=curr1\n",
    "        curr1.next=head\n",
    "        curr1=curr1.next\n",
    "        if head.next.next:\n",
    "            curr2=head.next.next\n",
    "            curr1.next=head=curr2\n",
    "        else:\n",
    "            curr1.next=None\n",
    "            return result\n",
    "           \n",
    "        while head.next:\n",
    "            curr1=head.next\n",
    "            curr1.next=head\n",
    "            curr1=curr1.next\n",
    "            if head.next.next:\n",
    "                curr2=head.next.next\n",
    "                curr1.next=head=curr2\n",
    "            else:\n",
    "                curr1.next=None\n",
    "                return result\n",
    "\n",
    "        curr1.next=None\n",
    "\n",
    "        return result"
   ]
  },
  {
   "cell_type": "code",
   "execution_count": 939,
   "metadata": {},
   "outputs": [],
   "source": [
    "class Solution:\n",
    "    def swapPairs(self, head):\n",
    "        if head==None:\n",
    "            return None\n",
    "        elif not head.next:\n",
    "            return head\n",
    "        \n",
    "        curr1=head.next\n",
    "        result=curr1\n",
    "        if head.next.next:\n",
    "            curr2=head.next.next\n",
    "            curr1.next=head\n",
    "            curr1=curr1.next\n",
    "            curr1.next=curr2.next\n",
    "            curr1=curr1.next\n",
    "            curr1.next=curr2\n",
    "            curr1=curr1.next\n",
    "        \n",
    "        curr1.next=None\n",
    "\n",
    "            \n",
    "        return result"
   ]
  },
  {
   "cell_type": "code",
   "execution_count": 941,
   "metadata": {},
   "outputs": [],
   "source": [
    "class LeetCode25:\n",
    "    def reverseKGroup(self, head, k):\n",
    "        if k==1:\n",
    "            return head\n",
    "        \n",
    "        start=head\n",
    "        end=start\n",
    "        \n",
    "        for i in range(k-1):\n",
    "            end = end.next\n",
    "                \n",
    "        dummy=ListNode(0, head)\n",
    "        prev=dummy\n",
    "\n",
    "        while start and end:\n",
    "            nextCurr=end.next\n",
    "            temp_curr=start\n",
    "            nodeList=[]\n",
    "            \n",
    "            if k>2:\n",
    "                for i in range(1, k-1):\n",
    "                    nodeList.append(temp_curr.next)\n",
    "                    temp_curr=temp_curr.next\n",
    "\n",
    "                temp_curr2=end\n",
    "                while nodeList:\n",
    "                    temp_curr2.next=nodeList.pop()\n",
    "                    temp_curr2=temp_curr2.next\n",
    "            \n",
    "            if k>2:\n",
    "                temp_curr2.next=start\n",
    "            else:\n",
    "                end.next=start\n",
    "            start.next=nextCurr\n",
    "            prev.next=end\n",
    "            \n",
    "            prev=start\n",
    "            start=nextCurr\n",
    "            \n",
    "            if start:\n",
    "                end=start\n",
    "                for i in range(k-1):\n",
    "                    if end:\n",
    "                        end = end.next\n",
    "                    else:\n",
    "                        return dummy.next\n",
    "            else:\n",
    "                return dummy.next\n",
    "            \n",
    "        return dummy.next\n",
    "    "
   ]
  },
  {
   "cell_type": "code",
   "execution_count": 943,
   "metadata": {},
   "outputs": [],
   "source": [
    "class LeetCode25:\n",
    "    def reverseKGroup(self, head, k):\n",
    "        dummy=ListNode(0,head)\n",
    "        groupPrev=kth=dummy\n",
    "        \n",
    "        while True:\n",
    "            count=0\n",
    "            while kth and count<k:\n",
    "                kth=kth.next\n",
    "                count+=1\n",
    "                \n",
    "            if kth==None:\n",
    "                break\n",
    "                \n",
    "            groupNext=kth.next\n",
    "            prev=kth.next\n",
    "            curr=groupPrev.next\n",
    "\n",
    "            while curr!=groupNext:\n",
    "                temp=curr.next\n",
    "                curr.next=prev\n",
    "                prev=curr\n",
    "                curr=temp\n",
    "\n",
    "            temp=groupPrev.next\n",
    "            groupPrev.next=kth\n",
    "            kth=groupPrev=temp\n",
    "            \n",
    "        return dummy.next"
   ]
  },
  {
   "cell_type": "code",
   "execution_count": null,
   "metadata": {},
   "outputs": [],
   "source": []
  }
 ],
 "metadata": {
  "kernelspec": {
   "display_name": "Python 3.7.7 64-bit ('dsfs': conda)",
   "language": "python",
   "name": "python37764bitdsfsconda1775957e7c934391a7cff3c9f4103f95"
  },
  "language_info": {
   "codemirror_mode": {
    "name": "ipython",
    "version": 3
   },
   "file_extension": ".py",
   "mimetype": "text/x-python",
   "name": "python",
   "nbconvert_exporter": "python",
   "pygments_lexer": "ipython3",
   "version": "3.7.7"
  }
 },
 "nbformat": 4,
 "nbformat_minor": 4
}
