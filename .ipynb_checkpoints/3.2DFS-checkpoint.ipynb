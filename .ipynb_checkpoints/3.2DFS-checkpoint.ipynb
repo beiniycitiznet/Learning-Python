{
 "cells": [
  {
   "cell_type": "code",
   "execution_count": 1,
   "metadata": {},
   "outputs": [],
   "source": [
    "#DFS"
   ]
  },
  {
   "cell_type": "code",
   "execution_count": 2,
   "metadata": {},
   "outputs": [],
   "source": [
    "import random\n",
    "\n",
    "class Graph():\n",
    "    def __init__(self, num):\n",
    "        self.nodes = []\n",
    "        for i in range(num):\n",
    "            self.nodes.append(Node(i))\n",
    "        for i, node in enumerate(self.nodes):\n",
    "            for j in range(1):\n",
    "                next_node = i\n",
    "                while next_node == i:\n",
    "                    next_node = random.randint(0, num - 1)\n",
    "                node.add(self.nodes[next_node])\n",
    "                self.nodes[next_node].add(node)\n",
    "    \n",
    "    def print(self):\n",
    "        for node in self.nodes:\n",
    "            print(f'{node.val} -> {sorted([x.val for x in node.neighbors])}')\n",
    "    \n",
    "            \n",
    "class Node():\n",
    "    def __init__(self, val):\n",
    "        self.val = val\n",
    "        self.neighbors = set()\n",
    "    def add(self, node):\n",
    "        self.neighbors.add(node)\n",
    "    def add_all(self, nodes):\n",
    "        for node in nodes:\n",
    "            self.add(node)"
   ]
  },
  {
   "cell_type": "code",
   "execution_count": 28,
   "metadata": {},
   "outputs": [],
   "source": [
    "def dfs(start, target):\n",
    "    seen = set()\n",
    "    seen.add(start)\n",
    "    def helper(curr, target, seen, path):\n",
    "        if curr == target:\n",
    "            return (path, True)\n",
    "        for node in curr.neighbors:\n",
    "            if node not in seen:\n",
    "                seen.add(node)\n",
    "                result = helper(node, target, seen, path + [node])\n",
    "                if result[1]:\n",
    "                    return result\n",
    "        return ([], False)\n",
    "    return helper(start, target, seen, [start])"
   ]
  },
  {
   "cell_type": "code",
   "execution_count": 33,
   "metadata": {},
   "outputs": [
    {
     "name": "stdout",
     "output_type": "stream",
     "text": [
      "0 -> [14]\n",
      "1 -> [10, 13, 14]\n",
      "2 -> [10, 17]\n",
      "3 -> [10]\n",
      "4 -> [15, 19]\n",
      "5 -> [15]\n",
      "6 -> [14]\n",
      "7 -> [12]\n",
      "8 -> [16]\n",
      "9 -> [12, 17]\n",
      "10 -> [1, 2, 3]\n",
      "11 -> [13]\n",
      "12 -> [7, 9, 18]\n",
      "13 -> [1, 11]\n",
      "14 -> [0, 1, 6]\n",
      "15 -> [4, 5, 19]\n",
      "16 -> [8, 18]\n",
      "17 -> [2, 9]\n",
      "18 -> [12, 16]\n",
      "19 -> [4, 15]\n",
      "[0, 14, 1, 10, 3]\n"
     ]
    }
   ],
   "source": [
    "g = Graph(20)\n",
    "g.print()\n",
    "result = dfs(g.nodes[0], g.nodes[3])\n",
    "if result[1]:\n",
    "    print([node.val for node in result[0]])"
   ]
  },
  {
   "cell_type": "code",
   "execution_count": 46,
   "metadata": {},
   "outputs": [],
   "source": [
    "def dfs(start, target):\n",
    "    stack = [(start, 0)]\n",
    "    seen = set()\n",
    "    while stack != []:\n",
    "        curr, index = stack.pop()\n",
    "        seen.add(curr)\n",
    "        if curr == target:\n",
    "            return True\n",
    "        if index < len(curr.neighbors):\n",
    "            stack.append((curr, index + 1))\n",
    "            next_nodes = list(curr.neighbors)\n",
    "            if next_nodes[index] not in seen:\n",
    "                stack.append((next_nodes[index], 0))\n",
    "    return False\n",
    "        "
   ]
  },
  {
   "cell_type": "code",
   "execution_count": 47,
   "metadata": {},
   "outputs": [
    {
     "name": "stdout",
     "output_type": "stream",
     "text": [
      "0 -> [11]\n",
      "1 -> [19]\n",
      "2 -> [6, 8, 18]\n",
      "3 -> [14, 18]\n",
      "4 -> [12]\n",
      "5 -> [15]\n",
      "6 -> [2, 11]\n",
      "7 -> [12, 18, 19]\n",
      "8 -> [2]\n",
      "9 -> [14, 16]\n",
      "10 -> [19]\n",
      "11 -> [0, 6, 13]\n",
      "12 -> [4, 7]\n",
      "13 -> [11]\n",
      "14 -> [3, 9, 17]\n",
      "15 -> [5, 18]\n",
      "16 -> [9]\n",
      "17 -> [14]\n",
      "18 -> [2, 3, 7, 15]\n",
      "19 -> [1, 7, 10]\n",
      "True\n"
     ]
    }
   ],
   "source": [
    "g = Graph(20)\n",
    "g.print()\n",
    "print(dfs(g.nodes[0], g.nodes[3]))"
   ]
  },
  {
   "cell_type": "code",
   "execution_count": null,
   "metadata": {},
   "outputs": [],
   "source": []
  },
  {
   "cell_type": "code",
   "execution_count": null,
   "metadata": {},
   "outputs": [],
   "source": []
  }
 ],
 "metadata": {
  "kernelspec": {
   "display_name": "Python 3.7.7 64-bit ('dsfs': conda)",
   "language": "python",
   "name": "python37764bitdsfsconda1775957e7c934391a7cff3c9f4103f95"
  },
  "language_info": {
   "codemirror_mode": {
    "name": "ipython",
    "version": 3
   },
   "file_extension": ".py",
   "mimetype": "text/x-python",
   "name": "python",
   "nbconvert_exporter": "python",
   "pygments_lexer": "ipython3",
   "version": "3.7.7"
  }
 },
 "nbformat": 4,
 "nbformat_minor": 4
}
