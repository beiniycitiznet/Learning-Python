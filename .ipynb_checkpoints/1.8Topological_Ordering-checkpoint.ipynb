{
 "cells": [
  {
   "cell_type": "code",
   "execution_count": 89,
   "metadata": {},
   "outputs": [],
   "source": [
    "import random\n",
    "\n",
    "class Graph():\n",
    "    def __init__(self, num):\n",
    "        self.nodes = []\n",
    "        self.edges = set()\n",
    "        for i in range(num):\n",
    "            self.nodes.append(Node(i))\n",
    "        random.shuffle(self.nodes)\n",
    "        for i, node in enumerate(self.nodes):\n",
    "            if i == len(self.nodes) - 1:\n",
    "                continue\n",
    "            for j in range(2):\n",
    "                next_node = random.randint(i + 1, num - 1)\n",
    "                target = self.nodes[next_node]\n",
    "                node.add(target)\n",
    "                self.edges.add((node.val, target.val))\n",
    "    def get_edges(self):\n",
    "        return self.edges\n",
    "    def get_nodes(self):\n",
    "        return [n.val for n in self.nodes]\n",
    "    def size(self):\n",
    "        return len(self.nodes)\n",
    "    def print(self):\n",
    "        for node in self.nodes:\n",
    "            print(f'{node.val} -> {sorted([x.val for x in node.neighbors])}')\n",
    "    \n",
    "            \n",
    "class Node():\n",
    "    def __init__(self, val):\n",
    "        self.val = val\n",
    "        self.neighbors = set()\n",
    "    def add(self, node):\n",
    "        self.neighbors.add(node)\n",
    "    def add_all(self, nodes):\n",
    "        for node in nodes:\n",
    "            self.add(node)\n",
    "    def node_print(self):\n",
    "        print(self.val)"
   ]
  },
  {
   "cell_type": "code",
   "execution_count": 107,
   "metadata": {},
   "outputs": [],
   "source": [
    "def topological_ordering (graph):\n",
    "    edge_list=graph.get_edges()\n",
    "    in_dic={}\n",
    "    for edge in edge_list:\n",
    "        if edge[1] in in_dic:\n",
    "            in_dic[edge[1]]+=1\n",
    "        else:\n",
    "            in_dic[edge[1]]=1\n",
    "    \n",
    "    queue=[]\n",
    "    nodes_list=graph.get_nodes()\n",
    "    for node in nodes_list:\n",
    "        if node not in in_dic:\n",
    "            queue.append(node)\n",
    "            \n",
    "    to_list=[]\n",
    "    while queue:        \n",
    "        node=queue.pop(0)        \n",
    "        to_list.append(node)\n",
    "        for src, dst in edge_list:\n",
    "            \n",
    "            if src == node and in_dic[dst]>=1:                \n",
    "                in_dic[dst]-=1\n",
    "                if in_dic[dst]==0:\n",
    "                    queue.append(dst)\n",
    "\n",
    "    return to_list"
   ]
  },
  {
   "cell_type": "code",
   "execution_count": 108,
   "metadata": {},
   "outputs": [
    {
     "name": "stdout",
     "output_type": "stream",
     "text": [
      "{(0, 1), (4, 7), (9, 1), (2, 9), (5, 8), (3, 0), (4, 5), (6, 1), (8, 1), (2, 1), (8, 9), (5, 1), (7, 2), (6, 5)}\n",
      "3 -> [0]\n",
      "4 -> [5, 7]\n",
      "6 -> [1, 5]\n",
      "0 -> [1]\n",
      "5 -> [1, 8]\n",
      "7 -> [2]\n",
      "8 -> [1, 9]\n",
      "2 -> [1, 9]\n",
      "9 -> [1]\n",
      "1 -> []\n",
      "[3, 4, 6, 0, 7, 5, 2, 8, 9, 1]\n"
     ]
    }
   ],
   "source": [
    "g = Graph(10)\n",
    "print(g.get_edges())\n",
    "g.print()\n",
    "print(topological_ordering(g))"
   ]
  },
  {
   "cell_type": "code",
   "execution_count": null,
   "metadata": {},
   "outputs": [],
   "source": []
  }
 ],
 "metadata": {
  "kernelspec": {
   "display_name": "Python 3.7.7 64-bit ('dsfs': conda)",
   "language": "python",
   "name": "python37764bitdsfsconda1775957e7c934391a7cff3c9f4103f95"
  },
  "language_info": {
   "codemirror_mode": {
    "name": "ipython",
    "version": 3
   },
   "file_extension": ".py",
   "mimetype": "text/x-python",
   "name": "python",
   "nbconvert_exporter": "python",
   "pygments_lexer": "ipython3",
   "version": "3.7.7"
  }
 },
 "nbformat": 4,
 "nbformat_minor": 4
}
