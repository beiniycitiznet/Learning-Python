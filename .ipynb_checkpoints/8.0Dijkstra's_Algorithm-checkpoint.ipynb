{
 "cells": [
  {
   "cell_type": "code",
   "execution_count": 110,
   "metadata": {},
   "outputs": [],
   "source": [
    "import random\n",
    "\n",
    "class Graph():\n",
    "    def __init__(self, num):\n",
    "        self.nodes = []\n",
    "        self.edges = {}\n",
    "        for i in range(num):\n",
    "            self.nodes.append(Node(i))\n",
    "        random.shuffle(self.nodes)\n",
    "        for i, node in enumerate(self.nodes):\n",
    "            if i == len(self.nodes) - 1:\n",
    "                continue\n",
    "            for j in range(2):\n",
    "                next_node = random.randint(i + 1, num - 1)\n",
    "                target = self.nodes[next_node]\n",
    "                node.add(target)\n",
    "                target.add(node)\n",
    "                weight = random.randint(1, 10)\n",
    "                self.edges[(node, target)] = weight\n",
    "                self.edges[(target, node)] = weight\n",
    "    def get_edges(self):\n",
    "        return [Edge(v, k[0], k[1]) for k, v in self.edges.items()]\n",
    "    def get_nodes(self):\n",
    "        return self.nodes\n",
    "    def size(self):\n",
    "        return len(self.nodes)\n",
    "    def print(self):\n",
    "        for node in self.nodes:\n",
    "            print(f'{node.val} -> {sorted([x.val for x in node.neighbors])}')\n",
    "            for x in sorted(node.neighbors, key=lambda n: n.val):\n",
    "                print(f'\\t{node.val} -> {x.val} ({self.edges[(node, x)]})')"
   ]
  },
  {
   "cell_type": "code",
   "execution_count": 111,
   "metadata": {},
   "outputs": [],
   "source": [
    "class Node():\n",
    "    def __init__(self, val):\n",
    "        self.val = val\n",
    "        self.neighbors = set()\n",
    "    def add(self, node):\n",
    "        self.neighbors.add(node)\n",
    "    def add_all(self, nodes):\n",
    "        for node in nodes:\n",
    "            self.add(node)\n",
    "    def node_print(self):\n",
    "        print(self.val)"
   ]
  },
  {
   "cell_type": "code",
   "execution_count": 112,
   "metadata": {},
   "outputs": [],
   "source": [
    "class Edge():\n",
    "    def __init__(self, weight, src, dest):\n",
    "        self.weight=weight\n",
    "        self.src=src\n",
    "        self.dest=dest\n",
    "        "
   ]
  },
  {
   "cell_type": "code",
   "execution_count": 113,
   "metadata": {},
   "outputs": [],
   "source": [
    "def Dijkstra(graph, start):\n",
    "    \n",
    "    unvisited=graph.get_nodes()\n",
    "    distance={} \n",
    "\n",
    "    for node in unvisited:\n",
    "        distance[node]=float('inf')\n",
    "    distance[start]=0\n",
    "    \n",
    "    edge_list=graph.get_edges()\n",
    "    edge_dic={}\n",
    "    \n",
    "    for edge in edge_list:\n",
    "        edge_dic[(edge.src, edge.dest)]=edge.weight\n",
    "    \n",
    "    while unvisited:\n",
    "        curr=None\n",
    "        min_val=float('inf')\n",
    "        for i, val in distance.items():\n",
    "            if i in unvisited and val<min_val:\n",
    "                min_val=val\n",
    "                curr=i\n",
    "\n",
    "        neighbor_set=curr.neighbors\n",
    "        for neighbor in neighbor_set:\n",
    "            if edge_dic[(curr, neighbor)]+distance[curr]<distance[neighbor]:\n",
    "                distance[neighbor]=edge_dic[(curr, neighbor)]+distance[curr]\n",
    "\n",
    "        unvisited.remove(curr)\n",
    "        \n",
    "    return distance\n",
    "    "
   ]
  },
  {
   "cell_type": "code",
   "execution_count": 114,
   "metadata": {},
   "outputs": [
    {
     "name": "stdout",
     "output_type": "stream",
     "text": [
      "2 -> [0, 4]\n",
      "\t2 -> 0 (2)\n",
      "\t2 -> 4 (6)\n",
      "4 -> [1, 2]\n",
      "\t4 -> 1 (4)\n",
      "\t4 -> 2 (6)\n",
      "1 -> [0, 3, 4]\n",
      "\t1 -> 0 (9)\n",
      "\t1 -> 3 (8)\n",
      "\t1 -> 4 (4)\n",
      "3 -> [0, 1]\n",
      "\t3 -> 0 (3)\n",
      "\t3 -> 1 (8)\n",
      "0 -> [1, 2, 3]\n",
      "\t0 -> 1 (9)\n",
      "\t0 -> 2 (2)\n",
      "\t0 -> 3 (3)\n",
      "2: 0\n",
      "4: 6\n",
      "1: 10\n",
      "3: 5\n",
      "0: 2\n"
     ]
    }
   ],
   "source": [
    "g = Graph(5)\n",
    "start = g.get_nodes()[0]\n",
    "g.print()\n",
    "result = Dijkstra(g, start)\n",
    "for key, value in result.items():\n",
    "    print(f'{key.val}: {value}')\n"
   ]
  },
  {
   "cell_type": "code",
   "execution_count": null,
   "metadata": {},
   "outputs": [],
   "source": []
  }
 ],
 "metadata": {
  "kernelspec": {
   "display_name": "Python 3.7.7 64-bit ('dsfs': conda)",
   "language": "python",
   "name": "python37764bitdsfsconda1775957e7c934391a7cff3c9f4103f95"
  },
  "language_info": {
   "codemirror_mode": {
    "name": "ipython",
    "version": 3
   },
   "file_extension": ".py",
   "mimetype": "text/x-python",
   "name": "python",
   "nbconvert_exporter": "python",
   "pygments_lexer": "ipython3",
   "version": "3.7.7"
  }
 },
 "nbformat": 4,
 "nbformat_minor": 4
}
