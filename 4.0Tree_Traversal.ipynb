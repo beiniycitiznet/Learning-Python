{
 "cells": [
  {
   "cell_type": "code",
   "execution_count": 56,
   "metadata": {},
   "outputs": [],
   "source": [
    "import random\n",
    "\n",
    "class Node():\n",
    "    def __init__(self, num, left=None, right=None):\n",
    "        self.value = num\n",
    "        self.left = left\n",
    "        self.right = right        \n",
    "        \n",
    "\n",
    "class BinaryTree():\n",
    "    def __init__ (self, root):\n",
    "        self.root = root\n",
    "        self.nodes=[root]\n",
    "       \n",
    "    def add(self, node):\n",
    "        self.nodes.append(node)\n",
    "        child_pos=len(self.nodes)-1\n",
    "        if child_pos%2==0:\n",
    "            parent_pos=(child_pos-2)//2\n",
    "            self.nodes[parent_pos].right=node\n",
    "        else:\n",
    "            parent_pos=(child_pos-1)//2\n",
    "            self.nodes[parent_pos].left=node\n",
    "    \n",
    "def random_tree(lvl):\n",
    "    bt = BinaryTree(Node(random.randint(1, 10)))\n",
    "    for i in range(1, lvl):\n",
    "        for j in range(2**i):\n",
    "            bt.add(Node(random.randint(1, 10)))\n",
    "    return bt\n",
    "\n",
    "def fixed_tree(nodes):\n",
    "    bt = BinaryTree(Node(nodes[0]))\n",
    "    for node in nodes[1:]:\n",
    "        bt.add(Node(node))\n",
    "    return bt\n",
    "        "
   ]
  },
  {
   "cell_type": "code",
   "execution_count": 42,
   "metadata": {},
   "outputs": [
    {
     "data": {
      "text/plain": [
       "7"
      ]
     },
     "execution_count": 42,
     "metadata": {},
     "output_type": "execute_result"
    }
   ],
   "source": [
    "len(random_tree(3).nodes)"
   ]
  },
  {
   "cell_type": "code",
   "execution_count": 48,
   "metadata": {},
   "outputs": [],
   "source": [
    "def preorder(tree):\n",
    "    def visit(node):\n",
    "        print(node.value)\n",
    "    def walk(node):\n",
    "        if node:\n",
    "            visit(node)\n",
    "            walk(node.left)\n",
    "            walk(node.right)\n",
    "    walk(tree.root)"
   ]
  },
  {
   "cell_type": "code",
   "execution_count": 51,
   "metadata": {},
   "outputs": [],
   "source": [
    "def inorder(tree):\n",
    "    def visit(node):\n",
    "        print(node.value)\n",
    "    def walk(node):\n",
    "        if node:\n",
    "            walk(node.left)\n",
    "            visit(node)\n",
    "            walk(node.right)\n",
    "    walk(tree.root)"
   ]
  },
  {
   "cell_type": "code",
   "execution_count": 54,
   "metadata": {},
   "outputs": [],
   "source": [
    "def postorder(tree):\n",
    "    def visit(node):\n",
    "        print(node.value)\n",
    "    def walk(node):\n",
    "        if node:\n",
    "            walk(node.left)\n",
    "            walk(node.right)\n",
    "            visit(node)\n",
    "    walk(tree.root)"
   ]
  },
  {
   "cell_type": "code",
   "execution_count": 57,
   "metadata": {},
   "outputs": [
    {
     "name": "stdout",
     "output_type": "stream",
     "text": [
      "[5, 10, 1, 4, 2, 8, 3]\n",
      "4\n",
      "2\n",
      "10\n",
      "8\n",
      "3\n",
      "1\n",
      "5\n"
     ]
    }
   ],
   "source": [
    "tree = fixed_tree([5, 10, 1, 4, 2, 8, 3])\n",
    "print([node.value for node in tree.nodes])\n",
    "# for node in tree.nodes:\n",
    "#     print(node.value)\n",
    "#     print(node.left)\n",
    "#     print(node.right)\n",
    "postorder(tree)"
   ]
  },
  {
   "cell_type": "code",
   "execution_count": 2,
   "metadata": {},
   "outputs": [],
   "source": [
    "# Definition for a binary tree node.\n",
    "# class TreeNode:\n",
    "#     def __init__(self, val=0, left=None, right=None):\n",
    "#         self.val = val\n",
    "#         self.left = left\n",
    "#         self.right = right\n",
    "class Zigzag:\n",
    "    def zigzagLevelOrder(self, root):\n",
    "        res=[]\n",
    "        \n",
    "        if not root:\n",
    "            return []\n",
    "            \n",
    "        def walk(node_list, n):\n",
    "            temp=[]\n",
    "            \n",
    "            if node_list:\n",
    "                for node in node_list:\n",
    "                    temp.append(node.val)\n",
    "                res.append(temp)\n",
    "\n",
    "                new_nodes=[]\n",
    "                for node in reversed(node_list):\n",
    "                    if n%2==0:\n",
    "                        if node.right:\n",
    "                            new_nodes.append(node.right)\n",
    "\n",
    "                        if node.left:\n",
    "                            new_nodes.append(node.left)\n",
    "\n",
    "                    else:\n",
    "                        if node.left:\n",
    "                            new_nodes.append(node.left)\n",
    "\n",
    "                        if node.right:\n",
    "                            new_nodes.append(node.right)\n",
    "\n",
    "                walk(new_nodes, n+1)\n",
    "                \n",
    "        walk([root], 0)\n",
    "        return res"
   ]
  },
  {
   "cell_type": "code",
   "execution_count": null,
   "metadata": {},
   "outputs": [],
   "source": []
  }
 ],
 "metadata": {
  "kernelspec": {
   "display_name": "Python 3.7.7 64-bit ('dsfs': conda)",
   "language": "python",
   "name": "python37764bitdsfsconda1775957e7c934391a7cff3c9f4103f95"
  },
  "language_info": {
   "codemirror_mode": {
    "name": "ipython",
    "version": 3
   },
   "file_extension": ".py",
   "mimetype": "text/x-python",
   "name": "python",
   "nbconvert_exporter": "python",
   "pygments_lexer": "ipython3",
   "version": "3.7.7"
  }
 },
 "nbformat": 4,
 "nbformat_minor": 4
}
